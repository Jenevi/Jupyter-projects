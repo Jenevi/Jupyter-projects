{
 "cells": [
  {
   "cell_type": "code",
   "execution_count": 1,
   "id": "8070dcee",
   "metadata": {},
   "outputs": [
    {
     "data": {
      "text/plain": [
       "'\\n!apt-get update > /dev/null 2>&1\\n!apt-get install -y xvfb python-opengl ffmpeg > /dev/null 2>&1\\n!apt-get install -y swig build-essential python-dev python3-dev > /dev/null 2>&1\\n!apt-get install x11-utils > /dev/null 2>&1\\n!apt-get install xvfb > /dev/null 2>&1\\n'"
      ]
     },
     "execution_count": 1,
     "metadata": {},
     "output_type": "execute_result"
    }
   ],
   "source": [
    "# @title Update/Upgrade the system and install libs\n",
    "'''\n",
    "!apt-get update > /dev/null 2>&1\n",
    "!apt-get install -y xvfb python-opengl ffmpeg > /dev/null 2>&1\n",
    "!apt-get install -y swig build-essential python-dev python3-dev > /dev/null 2>&1\n",
    "!apt-get install x11-utils > /dev/null 2>&1\n",
    "!apt-get install xvfb > /dev/null 2>&1\n",
    "'''\n",
    "# !pip install moviepy"
   ]
  },
  {
   "cell_type": "code",
   "execution_count": 2,
   "id": "2059b49c",
   "metadata": {},
   "outputs": [
    {
     "data": {
      "text/plain": [
       "\"\\n!pip install rarfile\\n!pip install stable-baselines3[extra]\\n!pip install ale-py\\n!pip install gym[box2d]\\n!pip install pyvirtualdisplay\\n!pip install pyglet\\n!pip install pygame\\n!pip install minigrid\\n!pip install -q swig\\n!pip install -q gymnasium[box2d]\\n!pip install 'minigrid<=2.1.1'\\n!pip3 install box2d-py\\n\""
      ]
     },
     "execution_count": 2,
     "metadata": {},
     "output_type": "execute_result"
    }
   ],
   "source": [
    "# @title Install dependencies\n",
    "'''\n",
    "!pip install rarfile\n",
    "!pip install stable-baselines3[extra]\n",
    "!pip install ale-py\n",
    "!pip install gym[box2d]\n",
    "!pip install pyvirtualdisplay\n",
    "!pip install pyglet\n",
    "!pip install pygame\n",
    "!pip install minigrid\n",
    "!pip install -q swig\n",
    "!pip install -q gymnasium[box2d]\n",
    "!pip install 'minigrid<=2.1.1'\n",
    "!pip3 install box2d-py\n",
    "'''"
   ]
  },
  {
   "cell_type": "code",
   "execution_count": 3,
   "id": "2eb85a0e",
   "metadata": {},
   "outputs": [],
   "source": [
    "# Imports\n",
    "import io\n",
    "import os\n",
    "import glob\n",
    "import torch\n",
    "import base64\n",
    "\n",
    "import numpy as np\n",
    "import matplotlib.pyplot as plt\n",
    "\n",
    "import sys\n",
    "import gymnasium\n",
    "sys.modules[\"gym\"] = gymnasium\n",
    "\n",
    "import stable_baselines3\n",
    "from stable_baselines3 import DQN\n",
    "from stable_baselines3.common.results_plotter import ts2xy, load_results\n",
    "from stable_baselines3.common.callbacks import EvalCallback\n",
    "from stable_baselines3.common.env_util import make_atari_env\n",
    "\n",
    "import gymnasium as gym\n",
    "from gym import spaces\n",
    "from gym.envs.box2d.lunar_lander import *\n",
    "from gym.wrappers.monitoring.video_recorder import VideoRecorder"
   ]
  },
  {
   "cell_type": "code",
   "execution_count": 4,
   "id": "2cb1cf8b",
   "metadata": {},
   "outputs": [],
   "source": [
    "# @title Play Video function\n",
    "from IPython.display import HTML\n",
    "from base64 import b64encode\n",
    "from pyvirtualdisplay import Display\n",
    "\n",
    "# create the directory to store the video(s)\n",
    "os.makedirs(\"./video\", exist_ok=True)\n",
    "\n",
    "display = Display(visible=False, size=(1400, 900))\n",
    "_ = display.start()\n",
    "\n",
    "\"\"\"\n",
    "Utility functions to enable video recording of gym environment\n",
    "and displaying it.\n",
    "To enable video, just do \"env = wrap_env(env)\"\"\"\n",
    "def render_mp4(videopath: str) -> str:\n",
    "  \"\"\"\n",
    "  Gets a string containing a b4-encoded version of the MP4 video\n",
    "  at the specified path.\n",
    "  \"\"\"\n",
    "  mp4 = open(videopath, 'rb').read()\n",
    "  base64_encoded_mp4 = b64encode(mp4).decode()\n",
    "  return f'<video width=400 controls><source src=\"data:video/mp4;' \\\n",
    "         f'base64,{base64_encoded_mp4}\" type=\"video/mp4\"></video>'"
   ]
  },
  {
   "cell_type": "code",
   "execution_count": 5,
   "id": "d45283f9",
   "metadata": {},
   "outputs": [],
   "source": [
    "nn_layers = [64, 64]  # This is the configuration of your neural network. Currently, we have two layers, each consisting of 64 neurons.\n",
    "                      # If you want three layers with 64 neurons each, set the value to [64,64,64] and so on.\n",
    "\n",
    "learning_rate = 0.001  # This is the step-size with which the gradient descent is carried out.\n",
    "                       # Tip: Use smaller step-sizes for larger networks."
   ]
  },
  {
   "cell_type": "code",
   "execution_count": 6,
   "id": "e1019699",
   "metadata": {},
   "outputs": [
    {
     "name": "stderr",
     "output_type": "stream",
     "text": [
      "/home/iv/anaconda3/lib/python3.10/site-packages/torch/cuda/__init__.py:107: UserWarning: CUDA initialization: CUDA unknown error - this may be due to an incorrectly set up environment, e.g. changing env variable CUDA_VISIBLE_DEVICES after program start. Setting the available devices to be zero. (Triggered internally at ../c10/cuda/CUDAFunctions.cpp:109.)\n",
      "  return torch._C._cuda_getDeviceCount() > 0\n"
     ]
    }
   ],
   "source": [
    "log_dir = \"/tmp/gym/\"\n",
    "os.makedirs(log_dir, exist_ok=True)\n",
    "\n",
    "# Create environment\n",
    "env_name = 'LunarLander-v2'\n",
    "env = gym.make(env_name)\n",
    "# You can also load other environments like cartpole, MountainCar, Acrobot.\n",
    "# Refer to https://gym.openai.com/docs/ for descriptions.\n",
    "\n",
    "# For example, if you would like to load Cartpole,\n",
    "# just replace the above statement with \"env = gym.make('CartPole-v1')\".\n",
    "\n",
    "env = stable_baselines3.common.monitor.Monitor(env, log_dir )\n",
    "\n",
    "callback = EvalCallback(env, log_path=log_dir, deterministic=True)  # For evaluating the performance of the agent periodically and logging the results.\n",
    "policy_kwargs = dict(activation_fn=torch.nn.ReLU,\n",
    "                     net_arch=nn_layers)\n",
    "model = DQN(\"MlpPolicy\", env,policy_kwargs = policy_kwargs,\n",
    "            learning_rate=learning_rate,\n",
    "            batch_size=1,  # for simplicity, we are not doing batch update.\n",
    "            buffer_size=1,  # size of experience of replay buffer. Set to 1 as batch update is not done\n",
    "            learning_starts=1,  # learning starts immediately!\n",
    "            gamma=0.99,  # discount facto. range is between 0 and 1.\n",
    "            tau = 1,  # the soft update coefficient for updating the target network\n",
    "            target_update_interval=1,  # update the target network immediately.\n",
    "            train_freq=(1,\"step\"),  # train the network at every step.\n",
    "            max_grad_norm = 10,  # the maximum value for the gradient clipping\n",
    "            exploration_initial_eps = 1,  # initial value of random action probability\n",
    "            exploration_fraction = 0.5,  # fraction of entire training period over which the exploration rate is reduced\n",
    "            gradient_steps = 1,  # number of gradient steps\n",
    "            seed = 1,  # seed for the pseudo random generators\n",
    "            verbose=0)  # Set verbose to 1 to observe training logs. We encourage you to set the verbose to 1.\n",
    "\n",
    "# You can also experiment with other RL algorithms like A2C, PPO, DDPG etc.\n",
    "# Refer to  https://stable-baselines3.readthedocs.io/en/master/guide/examples.html\n",
    "# for documentation. For example, if you would like to run DDPG, just replace \"DQN\" above with \"DDPG\"."
   ]
  },
  {
   "cell_type": "code",
   "execution_count": 7,
   "id": "8ec52ba2",
   "metadata": {},
   "outputs": [
    {
     "name": "stdout",
     "output_type": "stream",
     "text": [
      "State shape:  (8,)\n",
      "Number of actions:  4\n"
     ]
    }
   ],
   "source": [
    "env_name = 'LunarLander-v2'\n",
    "env = gym.make(env_name)\n",
    "print('State shape: ', env.observation_space.shape)\n",
    "print('Number of actions: ', env.action_space.n)"
   ]
  },
  {
   "cell_type": "code",
   "execution_count": 8,
   "id": "18286219",
   "metadata": {},
   "outputs": [],
   "source": [
    "import torch.nn as nn\n",
    "import torch.nn.functional as F\n",
    "import torch.optim as optim"
   ]
  },
  {
   "cell_type": "code",
   "execution_count": 9,
   "id": "683c4461",
   "metadata": {},
   "outputs": [
    {
     "name": "stdout",
     "output_type": "stream",
     "text": [
      "gym                           0.26.2\r\n",
      "gym-notices                   0.0.8\r\n",
      "gymnasium                     0.29.1\r\n"
     ]
    }
   ],
   "source": [
    "!pip list | grep gym"
   ]
  },
  {
   "cell_type": "code",
   "execution_count": 10,
   "id": "91f8fda5",
   "metadata": {
    "scrolled": true
   },
   "outputs": [
    {
     "name": "stdout",
     "output_type": "stream",
     "text": [
      "50\n",
      "Moviepy - Building video video/LunarLander-v2_pretraining.mp4.\n",
      "Moviepy - Writing video video/LunarLander-v2_pretraining.mp4\n",
      "\n"
     ]
    },
    {
     "name": "stderr",
     "output_type": "stream",
     "text": [
      "                                                                                                    \r"
     ]
    },
    {
     "name": "stdout",
     "output_type": "stream",
     "text": [
      "Moviepy - Done !\n",
      "Moviepy - video ready video/LunarLander-v2_pretraining.mp4\n",
      "\n",
      "Total reward: -472.29412864884125\n"
     ]
    },
    {
     "data": {
      "text/html": [
       "<video width=400 controls><source src=\"data:video/mp4;base64,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\" type=\"video/mp4\"></video>"
      ],
      "text/plain": [
       "<IPython.core.display.HTML object>"
      ]
     },
     "execution_count": 10,
     "metadata": {},
     "output_type": "execute_result"
    }
   ],
   "source": [
    "class Net(nn.Module):\n",
    "    def __init__(self):\n",
    "        super(Net, self).__init__()\n",
    "        self.fc1 = nn.Linear(8+4, 64)\n",
    "        self.fc2 = nn.Linear(64, 64)\n",
    "        self.fc3 = nn.Linear(64, 1)\n",
    "\n",
    "    def forward(self, x):\n",
    "        x = F.relu(self.fc1(x))\n",
    "        x = F.relu(self.fc2(x))\n",
    "        x = F.relu(self.fc3(x))\n",
    "        # return F.log_softmax(x)\n",
    "        return x\n",
    "\n",
    "class DQN2():\n",
    "    def __init__(self):\n",
    "        self.net = Net()\n",
    "        learning_rate = 1e-3\n",
    "        self.optimizer = optim.Adam(self.net.parameters(), lr=learning_rate)\n",
    "        \n",
    "\n",
    "    def predict(self, observation, deterministic=False):\n",
    "        actions = [[1, 0, 0, 0], [0, 1, 0, 0], [0, 0, 1, 0], [0, 0, 0, 1]]\n",
    "        dct = {}\n",
    "        dct[tuple([1, 0, 0, 0])] = 0\n",
    "        dct[tuple([0, 1, 0, 0])] = 1\n",
    "        dct[tuple([0, 0, 1, 0])] = 2\n",
    "        dct[tuple([0, 0, 0, 1])] = 3\n",
    "\n",
    "        Q = []\n",
    "        for act in actions:\n",
    "            Q.append([self.net.forward(torch.cat((torch.tensor(observation), torch.tensor(act)))), act])\n",
    "#             actions = [[1, 0, 0, 0], [0, 1, 0, 0], [0, 0, 1, 0], [0, 0, 0, 1]]\n",
    "#             Q.append(torch.cat((torch.tensor(observation), torch.tensor(actions[act]))))\n",
    "        Q.sort()\n",
    "#         print(Q[0][1])\n",
    "        action = dct[tuple(Q[0][1])]\n",
    "\n",
    "        states = True # не знаю зачем нужно\n",
    "        return (action, states)\n",
    "\n",
    "    def learn(self, training_set):\n",
    "        dct = {}\n",
    "        dct[0] = [1, 0, 0, 0]\n",
    "        dct[1] = [0, 1, 0, 0]\n",
    "        dct[2] = [0, 0, 1, 0]\n",
    "        dct[3] = [0, 0, 0, 1]\n",
    "        \n",
    "        out = []\n",
    "        Y = []\n",
    "        for i in training_set:\n",
    "            temp = []\n",
    "            temp.extend(i[0])\n",
    "            temp.extend(dct[i[1]])\n",
    "            out.append(temp)\n",
    "            Y.append(i[-1])\n",
    "    \n",
    "        x = torch.tensor(out)\n",
    "        \n",
    "        self.net.train()\n",
    "        for i in range(1):\n",
    "            loss_mean = []\n",
    "            for xx, YY in zip(x, Y): \n",
    "                xx = torch.tensor(xx, dtype=torch.float32)\n",
    "                YY = torch.tensor(YY, dtype=torch.float32)\n",
    "                self.optimizer.zero_grad()\n",
    "                output = self.net(xx)\n",
    "                mse_loss = torch.nn.MSELoss()\n",
    "                loss = mse_loss(output.float(), -torch.tensor(YY).float())\n",
    "                loss_mean.append(loss)\n",
    "#                 print('loss: ', loss)\n",
    "                loss.backward()\n",
    "                self.optimizer.step()\n",
    "            print(torch.tensor(loss_mean).sum())\n",
    "                \n",
    "                \n",
    "# model2.net.train()\n",
    "# for i in range(1):\n",
    "#     loss_mean = []\n",
    "#     for xx, YY in zip(x, Y): \n",
    "#         xx = torch.tensor(xx, dtype=torch.float32)\n",
    "#         YY = torch.tensor(YY, dtype=torch.float32)\n",
    "#         model2.optimizer.zero_grad()\n",
    "#         output = model2.net(xx)\n",
    "#         mse_loss = torch.nn.MSELoss()\n",
    "#         loss = mse_loss(output.float(), -torch.tensor(YY).float())\n",
    "#         loss_mean.append(loss)\n",
    "# #         print('loss: ', loss)\n",
    "#         loss.backward()\n",
    "#         model2.optimizer.step()\n",
    "#     print(torch.tensor(loss_mean).sum())\n",
    "        \n",
    "        \n",
    "        # training_set = (observation, action, reward)\n",
    "#         self.net.train()\n",
    "#         for batch_idx, (observation, action, reward) in enumerate(training_set):\n",
    "#             if not observation.any():\n",
    "#                 observation = env.reset()[0]\n",
    "# #             print(env.reset()[0])\n",
    "#             self.optimizer.zero_grad()\n",
    "# #             print('obs', observation)\n",
    "# #             print('act', action)\n",
    "#             actions = [[1, 0, 0, 0], [0, 1, 0, 0], [0, 0, 1, 0], [0, 0, 0, 1]]\n",
    "#             output = self.net.forward(torch.cat((torch.tensor(observation), torch.tensor(actions[action]))))\n",
    "# #             print('out', type(output))\n",
    "# #             print('out', type(reward))\n",
    "#             mse_loss = torch.nn.MSELoss()\n",
    "#             loss = mse_loss(output.float(), torch.tensor(reward).float())\n",
    "# #             loss = (output - torch.tensor(reward)) ** 2\n",
    "#             print('loss: ', loss)\n",
    "\n",
    "#             loss.backward()\n",
    "#             self.optimizer.step()\n",
    "\n",
    "model2 = DQN2()\n",
    "# model2.learn(training_set)\n",
    "#######\n",
    "env = gym.make(env_name, render_mode=\"rgb_array\")\n",
    "vid = VideoRecorder(env, path=f\"video/{env_name}_pretraining.mp4\")\n",
    "print(vid.frames_per_sec)\n",
    "observation = env.reset()[0]\n",
    "\n",
    "total_reward = 0\n",
    "done = False\n",
    "\n",
    "training_set = []\n",
    "\n",
    "while not done:\n",
    "    frame = env.render()\n",
    "    vid.capture_frame()\n",
    "    action, states = model2.predict(observation, True)\n",
    "    observation_old = observation\n",
    "  # print(action)\n",
    "    observation, reward, done, info, _ = env.step(action)\n",
    "    total_reward += reward\n",
    "    training_set.append([observation, action, reward])\n",
    "vid.close()\n",
    "env.close()\n",
    "print(f\"\\nTotal reward: {total_reward}\")\n",
    "\n",
    "# show video\n",
    "html = render_mp4(f\"video/{env_name}_pretraining.mp4\")\n",
    "HTML(html)"
   ]
  },
  {
   "cell_type": "code",
   "execution_count": 11,
   "id": "e86ccfc6",
   "metadata": {},
   "outputs": [
    {
     "name": "stderr",
     "output_type": "stream",
     "text": [
      "/tmp/ipykernel_48905/714987317.py:64: UserWarning: To copy construct from a tensor, it is recommended to use sourceTensor.clone().detach() or sourceTensor.clone().detach().requires_grad_(True), rather than torch.tensor(sourceTensor).\n",
      "  xx = torch.tensor(xx, dtype=torch.float32)\n",
      "/tmp/ipykernel_48905/714987317.py:69: UserWarning: To copy construct from a tensor, it is recommended to use sourceTensor.clone().detach() or sourceTensor.clone().detach().requires_grad_(True), rather than torch.tensor(sourceTensor).\n",
      "  loss = mse_loss(output.float(), -torch.tensor(YY).float())\n",
      "/home/iv/anaconda3/lib/python3.10/site-packages/torch/nn/modules/loss.py:536: UserWarning: Using a target size (torch.Size([])) that is different to the input size (torch.Size([1])). This will likely lead to incorrect results due to broadcasting. Please ensure they have the same size.\n",
      "  return F.mse_loss(input, target, reduction=self.reduction)\n"
     ]
    },
    {
     "name": "stdout",
     "output_type": "stream",
     "text": [
      "tensor(12961.3877)\n",
      "tensor(12961.3877)\n",
      "tensor(12961.3877)\n",
      "tensor(12961.3877)\n",
      "tensor(12961.3877)\n",
      "tensor(12961.3877)\n",
      "tensor(12961.3877)\n",
      "tensor(12961.3877)\n",
      "tensor(12961.3877)\n",
      "tensor(12961.3877)\n",
      "tensor(12961.3877)\n",
      "tensor(12961.3877)\n",
      "tensor(12961.3877)\n",
      "tensor(12961.3877)\n",
      "tensor(12961.3877)\n",
      "tensor(12961.3877)\n",
      "tensor(12961.3877)\n",
      "tensor(12961.3877)\n",
      "tensor(12961.3877)\n",
      "tensor(12961.3877)\n",
      "tensor(12961.3877)\n",
      "tensor(12961.3877)\n",
      "tensor(12961.3877)\n",
      "tensor(12961.3877)\n",
      "tensor(12961.3877)\n",
      "tensor(12961.3877)\n",
      "tensor(12961.3877)\n",
      "tensor(12961.3877)\n",
      "tensor(12961.3877)\n",
      "tensor(12961.3877)\n",
      "tensor(12961.3877)\n",
      "tensor(12961.3877)\n",
      "tensor(12961.3877)\n",
      "tensor(12961.3877)\n",
      "tensor(12961.3877)\n",
      "tensor(12961.3877)\n",
      "tensor(12961.3877)\n",
      "tensor(12961.3877)\n",
      "tensor(12961.3877)\n",
      "tensor(12961.3877)\n",
      "tensor(12961.3877)\n",
      "tensor(12961.3877)\n",
      "tensor(12961.3877)\n",
      "tensor(12961.3877)\n",
      "tensor(12961.3877)\n",
      "tensor(12961.3877)\n",
      "tensor(12961.3877)\n",
      "tensor(12961.3877)\n",
      "tensor(12961.3877)\n",
      "tensor(12961.3877)\n",
      "tensor(12961.3877)\n",
      "tensor(12961.3877)\n",
      "tensor(12961.3877)\n",
      "tensor(12961.3877)\n",
      "tensor(12961.3877)\n",
      "tensor(12961.3877)\n",
      "tensor(12961.3877)\n",
      "tensor(12961.3877)\n",
      "tensor(12961.3877)\n",
      "tensor(12961.3877)\n",
      "tensor(12961.3877)\n",
      "tensor(12961.3877)\n",
      "tensor(12961.3877)\n",
      "tensor(12961.3877)\n",
      "tensor(12961.3877)\n",
      "tensor(12961.3877)\n",
      "tensor(12961.3877)\n",
      "tensor(12961.3877)\n",
      "tensor(12961.3877)\n",
      "tensor(12961.3877)\n",
      "tensor(12961.3877)\n",
      "tensor(12961.3877)\n",
      "tensor(12961.3877)\n",
      "tensor(12961.3877)\n",
      "tensor(12961.3877)\n",
      "tensor(12961.3877)\n",
      "tensor(12961.3877)\n",
      "tensor(12961.3877)\n",
      "tensor(12961.3877)\n",
      "tensor(12961.3877)\n",
      "tensor(12961.3877)\n",
      "tensor(12961.3877)\n",
      "tensor(12961.3877)\n",
      "tensor(12961.3877)\n",
      "tensor(12961.3877)\n",
      "tensor(12961.3877)\n",
      "tensor(12961.3877)\n",
      "tensor(12961.3877)\n",
      "tensor(12961.3877)\n",
      "tensor(12961.3877)\n",
      "tensor(12961.3877)\n",
      "tensor(12961.3877)\n",
      "tensor(12961.3877)\n",
      "tensor(12961.3877)\n",
      "tensor(12961.3877)\n",
      "tensor(12961.3877)\n",
      "tensor(12961.3877)\n",
      "tensor(12961.3877)\n",
      "tensor(12961.3877)\n",
      "tensor(12961.3877)\n",
      "tensor(12961.3877)\n",
      "tensor(12961.3877)\n",
      "tensor(12961.3877)\n",
      "tensor(12961.3877)\n",
      "tensor(12961.3877)\n",
      "tensor(12961.3877)\n",
      "tensor(12961.3877)\n",
      "tensor(12961.3877)\n",
      "tensor(12961.3877)\n",
      "tensor(12961.3877)\n",
      "tensor(12961.3877)\n",
      "tensor(12961.3877)\n",
      "tensor(12961.3877)\n",
      "tensor(12961.3877)\n",
      "tensor(12961.3877)\n",
      "tensor(12961.3877)\n",
      "tensor(12961.3877)\n",
      "tensor(12961.3877)\n",
      "tensor(12961.3877)\n",
      "tensor(12961.3877)\n",
      "tensor(12961.3877)\n",
      "tensor(12961.3877)\n",
      "tensor(12961.3877)\n",
      "tensor(12961.3877)\n",
      "tensor(12961.3877)\n",
      "tensor(12961.3877)\n",
      "tensor(12961.3877)\n",
      "tensor(12961.3877)\n",
      "tensor(12961.3877)\n",
      "tensor(12961.3877)\n",
      "tensor(12961.3877)\n",
      "tensor(12961.3877)\n",
      "tensor(12961.3877)\n",
      "tensor(12961.3877)\n",
      "tensor(12961.3877)\n",
      "tensor(12961.3877)\n",
      "tensor(12961.3877)\n",
      "tensor(12961.3877)\n",
      "tensor(12961.3877)\n",
      "tensor(12961.3877)\n",
      "tensor(12961.3877)\n",
      "tensor(12961.3877)\n",
      "tensor(12961.3877)\n",
      "tensor(12961.3877)\n",
      "tensor(12961.3877)\n",
      "tensor(12961.3877)\n",
      "tensor(12961.3877)\n",
      "tensor(12961.3877)\n",
      "tensor(12961.3877)\n",
      "tensor(12961.3877)\n",
      "tensor(12961.3877)\n",
      "tensor(12961.3877)\n",
      "tensor(12961.3877)\n",
      "tensor(12961.3877)\n",
      "tensor(12961.3877)\n",
      "tensor(12961.3877)\n",
      "tensor(12961.3877)\n",
      "tensor(12961.3877)\n",
      "tensor(12961.3877)\n",
      "tensor(12961.3877)\n",
      "tensor(12961.3877)\n",
      "tensor(12961.3877)\n",
      "tensor(12961.3877)\n",
      "tensor(12961.3877)\n",
      "tensor(12961.3877)\n",
      "tensor(12961.3877)\n",
      "tensor(12961.3877)\n",
      "tensor(12961.3877)\n",
      "tensor(12961.3877)\n",
      "tensor(12961.3877)\n",
      "tensor(12961.3877)\n",
      "tensor(12961.3877)\n",
      "tensor(12961.3877)\n",
      "tensor(12961.3877)\n",
      "tensor(12961.3877)\n",
      "tensor(12961.3877)\n",
      "tensor(12961.3877)\n",
      "tensor(12961.3877)\n",
      "tensor(12961.3877)\n",
      "tensor(12961.3877)\n",
      "tensor(12961.3877)\n",
      "tensor(12961.3877)\n",
      "tensor(12961.3877)\n",
      "tensor(12961.3877)\n",
      "tensor(12961.3877)\n",
      "tensor(12961.3877)\n",
      "tensor(12961.3877)\n",
      "tensor(12961.3877)\n",
      "tensor(12961.3877)\n",
      "tensor(12961.3877)\n",
      "tensor(12961.3877)\n",
      "tensor(12961.3877)\n",
      "tensor(12961.3877)\n",
      "tensor(12961.3877)\n",
      "tensor(12961.3877)\n",
      "tensor(12961.3877)\n",
      "tensor(12961.3877)\n",
      "tensor(12961.3877)\n",
      "tensor(12961.3877)\n",
      "tensor(12961.3877)\n"
     ]
    }
   ],
   "source": [
    "for i in range(200):\n",
    "    model2.learn(training_set)"
   ]
  },
  {
   "cell_type": "code",
   "execution_count": 12,
   "id": "3a572e9b",
   "metadata": {},
   "outputs": [
    {
     "name": "stdout",
     "output_type": "stream",
     "text": [
      "tensor(12961.3877)\n"
     ]
    },
    {
     "name": "stderr",
     "output_type": "stream",
     "text": [
      "/tmp/ipykernel_48905/714987317.py:64: UserWarning: To copy construct from a tensor, it is recommended to use sourceTensor.clone().detach() or sourceTensor.clone().detach().requires_grad_(True), rather than torch.tensor(sourceTensor).\n",
      "  xx = torch.tensor(xx, dtype=torch.float32)\n",
      "/tmp/ipykernel_48905/714987317.py:69: UserWarning: To copy construct from a tensor, it is recommended to use sourceTensor.clone().detach() or sourceTensor.clone().detach().requires_grad_(True), rather than torch.tensor(sourceTensor).\n",
      "  loss = mse_loss(output.float(), -torch.tensor(YY).float())\n"
     ]
    }
   ],
   "source": [
    "model2.learn(training_set)"
   ]
  },
  {
   "cell_type": "code",
   "execution_count": 12,
   "id": "eb9f2fb8",
   "metadata": {},
   "outputs": [],
   "source": [
    "import pickle\n",
    "with open('model2_400.pkl', 'rb') as f:\n",
    "    # Загружаем список из файла\n",
    "    model2 = pickle.load(f)"
   ]
  },
  {
   "cell_type": "code",
   "execution_count": null,
   "id": "17189eb3",
   "metadata": {},
   "outputs": [
    {
     "name": "stderr",
     "output_type": "stream",
     "text": [
      "/tmp/ipykernel_55357/714987317.py:64: UserWarning: To copy construct from a tensor, it is recommended to use sourceTensor.clone().detach() or sourceTensor.clone().detach().requires_grad_(True), rather than torch.tensor(sourceTensor).\n",
      "  xx = torch.tensor(xx, dtype=torch.float32)\n",
      "/tmp/ipykernel_55357/714987317.py:69: UserWarning: To copy construct from a tensor, it is recommended to use sourceTensor.clone().detach() or sourceTensor.clone().detach().requires_grad_(True), rather than torch.tensor(sourceTensor).\n",
      "  loss = mse_loss(output.float(), -torch.tensor(YY).float())\n",
      "/home/iv/anaconda3/lib/python3.10/site-packages/torch/nn/modules/loss.py:536: UserWarning: Using a target size (torch.Size([])) that is different to the input size (torch.Size([1])). This will likely lead to incorrect results due to broadcasting. Please ensure they have the same size.\n",
      "  return F.mse_loss(input, target, reduction=self.reduction)\n"
     ]
    },
    {
     "name": "stdout",
     "output_type": "stream",
     "text": [
      "tensor(14291.5195)\n",
      "tensor(3063.9275)\n",
      "tensor(887.5344)\n",
      "tensor(307.4045)\n",
      "tensor(127.0315)\n",
      "50\n",
      "Moviepy - Building video video/LunarLander-v2_pretraining.mp4.\n",
      "Moviepy - Writing video video/LunarLander-v2_pretraining.mp4\n",
      "\n"
     ]
    },
    {
     "name": "stderr",
     "output_type": "stream",
     "text": [
      "                                                                                                    \r"
     ]
    },
    {
     "name": "stdout",
     "output_type": "stream",
     "text": [
      "Moviepy - Done !\n",
      "Moviepy - video ready video/LunarLander-v2_pretraining.mp4\n",
      "\n",
      "Total reward: -262.1523685068847\n",
      "tensor(1218.7465)\n",
      "tensor(767.4717)\n",
      "tensor(714.4163)\n",
      "tensor(700.6576)\n",
      "tensor(691.0622)\n",
      "50\n",
      "Moviepy - Building video video/LunarLander-v2_pretraining.mp4.\n",
      "Moviepy - Writing video video/LunarLander-v2_pretraining.mp4\n",
      "\n"
     ]
    },
    {
     "name": "stderr",
     "output_type": "stream",
     "text": [
      "                                                                                                    \r"
     ]
    },
    {
     "name": "stdout",
     "output_type": "stream",
     "text": [
      "Moviepy - Done !\n",
      "Moviepy - video ready video/LunarLander-v2_pretraining.mp4\n",
      "\n",
      "Total reward: -52.394611139413044\n",
      "tensor(5339.0942)\n",
      "tensor(1657.6926)\n",
      "tensor(975.8292)\n",
      "tensor(960.1232)\n",
      "tensor(956.1204)\n",
      "50\n",
      "Moviepy - Building video video/LunarLander-v2_pretraining.mp4.\n",
      "Moviepy - Writing video video/LunarLander-v2_pretraining.mp4\n",
      "\n"
     ]
    },
    {
     "name": "stderr",
     "output_type": "stream",
     "text": [
      "                                                                                                    \r"
     ]
    },
    {
     "name": "stdout",
     "output_type": "stream",
     "text": [
      "Moviepy - Done !\n",
      "Moviepy - video ready video/LunarLander-v2_pretraining.mp4\n",
      "\n",
      "Total reward: -167.24663360073265\n",
      "tensor(10953.9512)\n",
      "tensor(10706.7871)\n",
      "tensor(10686.6953)\n",
      "tensor(10670.7539)\n",
      "tensor(10658.0078)\n",
      "50\n",
      "Moviepy - Building video video/LunarLander-v2_pretraining.mp4.\n",
      "Moviepy - Writing video video/LunarLander-v2_pretraining.mp4\n",
      "\n"
     ]
    },
    {
     "name": "stderr",
     "output_type": "stream",
     "text": [
      "                                                                                                    \r"
     ]
    },
    {
     "name": "stdout",
     "output_type": "stream",
     "text": [
      "Moviepy - Done !\n",
      "Moviepy - video ready video/LunarLander-v2_pretraining.mp4\n",
      "\n",
      "Total reward: -312.364578252063\n",
      "tensor(669.6874)\n",
      "tensor(529.7109)\n",
      "tensor(495.4494)\n",
      "tensor(484.5208)\n",
      "tensor(476.9684)\n",
      "50\n",
      "Moviepy - Building video video/LunarLander-v2_pretraining.mp4.\n",
      "Moviepy - Writing video video/LunarLander-v2_pretraining.mp4\n",
      "\n"
     ]
    },
    {
     "name": "stderr",
     "output_type": "stream",
     "text": [
      "                                                                                                    \r"
     ]
    },
    {
     "name": "stdout",
     "output_type": "stream",
     "text": [
      "Moviepy - Done !\n",
      "Moviepy - video ready video/LunarLander-v2_pretraining.mp4\n",
      "\n",
      "Total reward: -312.34020453711355\n",
      "tensor(1125.4479)\n",
      "tensor(1626.6555)\n",
      "tensor(1135.5076)\n",
      "tensor(832.0033)\n",
      "tensor(758.1229)\n",
      "50\n",
      "Moviepy - Building video video/LunarLander-v2_pretraining.mp4.\n",
      "Moviepy - Writing video video/LunarLander-v2_pretraining.mp4\n",
      "\n"
     ]
    },
    {
     "name": "stderr",
     "output_type": "stream",
     "text": [
      "                                                                                                    \r"
     ]
    },
    {
     "name": "stdout",
     "output_type": "stream",
     "text": [
      "Moviepy - Done !\n",
      "Moviepy - video ready video/LunarLander-v2_pretraining.mp4\n",
      "\n",
      "Total reward: -436.811426971611\n",
      "tensor(766.4032)\n",
      "tensor(751.2906)\n",
      "tensor(709.4407)\n",
      "tensor(677.9836)\n",
      "tensor(669.2538)\n",
      "50\n",
      "Moviepy - Building video video/LunarLander-v2_pretraining.mp4.\n",
      "Moviepy - Writing video video/LunarLander-v2_pretraining.mp4\n",
      "\n"
     ]
    },
    {
     "name": "stderr",
     "output_type": "stream",
     "text": [
      "                                                                                                    \r"
     ]
    },
    {
     "name": "stdout",
     "output_type": "stream",
     "text": [
      "Moviepy - Done !\n",
      "Moviepy - video ready video/LunarLander-v2_pretraining.mp4\n",
      "\n",
      "Total reward: -415.593744944827\n",
      "tensor(1151.7086)\n",
      "tensor(1047.9756)\n",
      "tensor(1141.6864)\n",
      "tensor(1445.1935)\n",
      "tensor(1326.3784)\n",
      "50\n",
      "Moviepy - Building video video/LunarLander-v2_pretraining.mp4.\n",
      "Moviepy - Writing video video/LunarLander-v2_pretraining.mp4\n",
      "\n"
     ]
    },
    {
     "name": "stderr",
     "output_type": "stream",
     "text": [
      "                                                                                                    \r"
     ]
    },
    {
     "name": "stdout",
     "output_type": "stream",
     "text": [
      "Moviepy - Done !\n",
      "Moviepy - video ready video/LunarLander-v2_pretraining.mp4\n",
      "\n",
      "Total reward: -504.69604857535995\n",
      "tensor(4737.8379)\n",
      "tensor(4932.0752)\n",
      "tensor(4326.5181)\n",
      "tensor(4084.4443)\n",
      "tensor(3752.4365)\n",
      "50\n",
      "Moviepy - Building video video/LunarLander-v2_pretraining.mp4.\n",
      "Moviepy - Writing video video/LunarLander-v2_pretraining.mp4\n",
      "\n"
     ]
    },
    {
     "name": "stderr",
     "output_type": "stream",
     "text": [
      "                                                                                                    \r"
     ]
    },
    {
     "name": "stdout",
     "output_type": "stream",
     "text": [
      "Moviepy - Done !\n",
      "Moviepy - video ready video/LunarLander-v2_pretraining.mp4\n",
      "\n",
      "Total reward: -171.3738811052168\n",
      "tensor(11140.6846)\n",
      "tensor(9956.9111)\n",
      "tensor(9066.0381)\n",
      "tensor(8578.5898)\n",
      "tensor(8148.6929)\n",
      "50\n",
      "Moviepy - Building video video/LunarLander-v2_pretraining.mp4.\n",
      "Moviepy - Writing video video/LunarLander-v2_pretraining.mp4\n",
      "\n"
     ]
    },
    {
     "name": "stderr",
     "output_type": "stream",
     "text": [
      "                                                                                                    \r"
     ]
    },
    {
     "name": "stdout",
     "output_type": "stream",
     "text": [
      "Moviepy - Done !\n",
      "Moviepy - video ready video/LunarLander-v2_pretraining.mp4\n",
      "\n",
      "Total reward: -659.8739363748143\n",
      "tensor(4352.3438)\n",
      "tensor(1278.8442)\n",
      "tensor(590.7695)\n",
      "tensor(451.9988)\n",
      "tensor(315.8947)\n",
      "50\n",
      "Moviepy - Building video video/LunarLander-v2_pretraining.mp4.\n",
      "Moviepy - Writing video video/LunarLander-v2_pretraining.mp4\n",
      "\n"
     ]
    },
    {
     "name": "stderr",
     "output_type": "stream",
     "text": [
      "                                                                                                    \r"
     ]
    },
    {
     "name": "stdout",
     "output_type": "stream",
     "text": [
      "Moviepy - Done !\n",
      "Moviepy - video ready video/LunarLander-v2_pretraining.mp4\n",
      "\n",
      "Total reward: -768.9604728759895\n",
      "tensor(1821.2871)\n",
      "tensor(2006.4722)\n",
      "tensor(1514.4086)\n",
      "tensor(403.1434)\n",
      "tensor(174.0652)\n",
      "50\n",
      "Moviepy - Building video video/LunarLander-v2_pretraining.mp4.\n",
      "Moviepy - Writing video video/LunarLander-v2_pretraining.mp4\n",
      "\n"
     ]
    },
    {
     "name": "stderr",
     "output_type": "stream",
     "text": [
      "                                                                                                    \r"
     ]
    },
    {
     "name": "stdout",
     "output_type": "stream",
     "text": [
      "Moviepy - Done !\n",
      "Moviepy - video ready video/LunarLander-v2_pretraining.mp4\n",
      "\n",
      "Total reward: -325.884305414329\n",
      "tensor(2335.7700)\n",
      "tensor(839.4166)\n",
      "tensor(310.7099)\n",
      "tensor(158.4576)\n",
      "tensor(111.7306)\n",
      "50\n",
      "Moviepy - Building video video/LunarLander-v2_pretraining.mp4.\n",
      "Moviepy - Writing video video/LunarLander-v2_pretraining.mp4\n",
      "\n"
     ]
    },
    {
     "name": "stderr",
     "output_type": "stream",
     "text": [
      "                                                                                                    \r"
     ]
    },
    {
     "name": "stdout",
     "output_type": "stream",
     "text": [
      "Moviepy - Done !\n",
      "Moviepy - video ready video/LunarLander-v2_pretraining.mp4\n",
      "\n",
      "Total reward: -524.0976497713104\n",
      "tensor(517.7064)\n",
      "tensor(389.3537)\n",
      "tensor(348.6100)\n",
      "tensor(330.5966)\n",
      "tensor(312.9027)\n",
      "50\n",
      "Moviepy - Building video video/LunarLander-v2_pretraining.mp4.\n",
      "Moviepy - Writing video video/LunarLander-v2_pretraining.mp4\n",
      "\n"
     ]
    },
    {
     "name": "stderr",
     "output_type": "stream",
     "text": [
      "                                                                                                    \r"
     ]
    },
    {
     "name": "stdout",
     "output_type": "stream",
     "text": [
      "Moviepy - Done !\n",
      "Moviepy - video ready video/LunarLander-v2_pretraining.mp4\n",
      "\n",
      "Total reward: -739.0386491576094\n",
      "tensor(862.9170)\n",
      "tensor(4853.5547)\n",
      "tensor(1667.9579)\n",
      "tensor(313.2358)\n",
      "tensor(153.0266)\n",
      "50\n",
      "Moviepy - Building video video/LunarLander-v2_pretraining.mp4.\n",
      "Moviepy - Writing video video/LunarLander-v2_pretraining.mp4\n",
      "\n"
     ]
    },
    {
     "name": "stderr",
     "output_type": "stream",
     "text": [
      "                                                                                                    \r"
     ]
    },
    {
     "name": "stdout",
     "output_type": "stream",
     "text": [
      "Moviepy - Done !\n",
      "Moviepy - video ready video/LunarLander-v2_pretraining.mp4\n",
      "\n",
      "Total reward: -252.34202479635763\n",
      "tensor(865.7085)\n",
      "tensor(232.3079)\n",
      "tensor(123.7370)\n",
      "tensor(124.0670)\n",
      "tensor(122.1925)\n",
      "50\n",
      "Moviepy - Building video video/LunarLander-v2_pretraining.mp4.\n",
      "Moviepy - Writing video video/LunarLander-v2_pretraining.mp4\n",
      "\n"
     ]
    },
    {
     "name": "stderr",
     "output_type": "stream",
     "text": [
      "                                                                                                    \r"
     ]
    },
    {
     "name": "stdout",
     "output_type": "stream",
     "text": [
      "Moviepy - Done !\n",
      "Moviepy - video ready video/LunarLander-v2_pretraining.mp4\n",
      "\n",
      "Total reward: -423.1781766056122\n",
      "tensor(18202.3711)\n",
      "tensor(10883.7383)\n",
      "tensor(8746.5791)\n",
      "tensor(8013.8447)\n",
      "tensor(7756.8184)\n",
      "50\n",
      "Moviepy - Building video video/LunarLander-v2_pretraining.mp4.\n",
      "Moviepy - Writing video video/LunarLander-v2_pretraining.mp4\n",
      "\n"
     ]
    },
    {
     "name": "stderr",
     "output_type": "stream",
     "text": [
      "                                                                                                    \r"
     ]
    },
    {
     "name": "stdout",
     "output_type": "stream",
     "text": [
      "Moviepy - Done !\n",
      "Moviepy - video ready video/LunarLander-v2_pretraining.mp4\n",
      "\n",
      "Total reward: -326.9656932604868\n",
      "tensor(2117.0674)\n",
      "tensor(335.0793)\n",
      "tensor(92.0658)\n",
      "tensor(74.1155)\n",
      "tensor(70.6792)\n",
      "50\n",
      "Moviepy - Building video video/LunarLander-v2_pretraining.mp4.\n",
      "Moviepy - Writing video video/LunarLander-v2_pretraining.mp4\n",
      "\n"
     ]
    },
    {
     "name": "stderr",
     "output_type": "stream",
     "text": [
      "                                                                                                    \r"
     ]
    },
    {
     "name": "stdout",
     "output_type": "stream",
     "text": [
      "Moviepy - Done !\n",
      "Moviepy - video ready video/LunarLander-v2_pretraining.mp4\n",
      "\n",
      "Total reward: -261.59800587920984\n",
      "tensor(785.1479)\n",
      "tensor(1048.6403)\n",
      "tensor(660.3523)\n",
      "tensor(376.6677)\n",
      "tensor(355.3073)\n",
      "50\n",
      "Moviepy - Building video video/LunarLander-v2_pretraining.mp4.\n",
      "Moviepy - Writing video video/LunarLander-v2_pretraining.mp4\n",
      "\n"
     ]
    },
    {
     "name": "stderr",
     "output_type": "stream",
     "text": [
      "                                                                                                    \r"
     ]
    },
    {
     "name": "stdout",
     "output_type": "stream",
     "text": [
      "Moviepy - Done !\n",
      "Moviepy - video ready video/LunarLander-v2_pretraining.mp4\n",
      "\n",
      "Total reward: -307.46781263432416\n",
      "tensor(8682.9219)\n",
      "tensor(5886.9102)\n",
      "tensor(2949.1667)\n",
      "tensor(1585.4946)\n",
      "tensor(1356.7393)\n",
      "50\n",
      "Moviepy - Building video video/LunarLander-v2_pretraining.mp4.\n",
      "Moviepy - Writing video video/LunarLander-v2_pretraining.mp4\n",
      "\n"
     ]
    },
    {
     "name": "stderr",
     "output_type": "stream",
     "text": [
      "                                                                                                    \r"
     ]
    },
    {
     "name": "stdout",
     "output_type": "stream",
     "text": [
      "Moviepy - Done !\n",
      "Moviepy - video ready video/LunarLander-v2_pretraining.mp4\n",
      "\n",
      "Total reward: -357.05602315870914\n",
      "tensor(554.1099)\n",
      "tensor(477.4340)\n",
      "tensor(388.8175)\n",
      "tensor(371.3367)\n",
      "tensor(359.3085)\n",
      "50\n",
      "Moviepy - Building video video/LunarLander-v2_pretraining.mp4.\n",
      "Moviepy - Writing video video/LunarLander-v2_pretraining.mp4\n",
      "\n"
     ]
    },
    {
     "name": "stderr",
     "output_type": "stream",
     "text": [
      "                                                                                                    \r"
     ]
    },
    {
     "name": "stdout",
     "output_type": "stream",
     "text": [
      "Moviepy - Done !\n",
      "Moviepy - video ready video/LunarLander-v2_pretraining.mp4\n",
      "\n",
      "Total reward: -355.36175467657176\n",
      "tensor(450.2278)\n",
      "tensor(560.9871)\n",
      "tensor(736.4944)\n",
      "tensor(447.2960)\n",
      "tensor(381.0750)\n",
      "50\n",
      "Moviepy - Building video video/LunarLander-v2_pretraining.mp4.\n",
      "Moviepy - Writing video video/LunarLander-v2_pretraining.mp4\n",
      "\n"
     ]
    },
    {
     "name": "stderr",
     "output_type": "stream",
     "text": [
      "                                                                                                    \r"
     ]
    },
    {
     "name": "stdout",
     "output_type": "stream",
     "text": [
      "Moviepy - Done !\n",
      "Moviepy - video ready video/LunarLander-v2_pretraining.mp4\n",
      "\n",
      "Total reward: -379.61134303806074\n",
      "tensor(11451.3242)\n",
      "tensor(2766.3459)\n",
      "tensor(1081.7313)\n",
      "tensor(563.7079)\n",
      "tensor(407.3074)\n",
      "50\n",
      "Moviepy - Building video video/LunarLander-v2_pretraining.mp4.\n",
      "Moviepy - Writing video video/LunarLander-v2_pretraining.mp4\n",
      "\n"
     ]
    },
    {
     "name": "stderr",
     "output_type": "stream",
     "text": [
      "                                                                                                    \r"
     ]
    },
    {
     "name": "stdout",
     "output_type": "stream",
     "text": [
      "Moviepy - Done !\n",
      "Moviepy - video ready video/LunarLander-v2_pretraining.mp4\n",
      "\n",
      "Total reward: -394.41452754096395\n",
      "tensor(1654.5569)\n",
      "tensor(1328.3098)\n",
      "tensor(1205.5344)\n",
      "tensor(1159.3572)\n",
      "tensor(1138.2800)\n",
      "50\n",
      "Moviepy - Building video video/LunarLander-v2_pretraining.mp4.\n",
      "Moviepy - Writing video video/LunarLander-v2_pretraining.mp4\n",
      "\n"
     ]
    },
    {
     "name": "stderr",
     "output_type": "stream",
     "text": [
      "                                                                                                    \r"
     ]
    },
    {
     "name": "stdout",
     "output_type": "stream",
     "text": [
      "Moviepy - Done !\n",
      "Moviepy - video ready video/LunarLander-v2_pretraining.mp4\n",
      "\n",
      "Total reward: -121.78891802826527\n",
      "tensor(6518.1177)\n",
      "tensor(1038.1335)\n",
      "tensor(702.1937)\n",
      "tensor(681.3350)\n",
      "tensor(678.1758)\n",
      "50\n",
      "Moviepy - Building video video/LunarLander-v2_pretraining.mp4.\n",
      "Moviepy - Writing video video/LunarLander-v2_pretraining.mp4\n",
      "\n"
     ]
    },
    {
     "name": "stderr",
     "output_type": "stream",
     "text": [
      "                                                                                                    \r"
     ]
    },
    {
     "name": "stdout",
     "output_type": "stream",
     "text": [
      "Moviepy - Done !\n",
      "Moviepy - video ready video/LunarLander-v2_pretraining.mp4\n",
      "\n",
      "Total reward: -352.2980232300366\n",
      "tensor(889.4209)\n",
      "tensor(572.3712)\n",
      "tensor(497.3604)\n",
      "tensor(490.8272)\n",
      "tensor(482.5083)\n",
      "50\n",
      "Moviepy - Building video video/LunarLander-v2_pretraining.mp4.\n",
      "Moviepy - Writing video video/LunarLander-v2_pretraining.mp4\n",
      "\n"
     ]
    },
    {
     "name": "stderr",
     "output_type": "stream",
     "text": [
      "                                                                                                    \r"
     ]
    },
    {
     "name": "stdout",
     "output_type": "stream",
     "text": [
      "Moviepy - Done !\n",
      "Moviepy - video ready video/LunarLander-v2_pretraining.mp4\n",
      "\n",
      "Total reward: -304.18913937923355\n",
      "tensor(798.1084)\n",
      "tensor(434.8595)\n",
      "tensor(418.0715)\n",
      "tensor(408.5889)\n",
      "tensor(409.3036)\n",
      "50\n",
      "Moviepy - Building video video/LunarLander-v2_pretraining.mp4.\n",
      "Moviepy - Writing video video/LunarLander-v2_pretraining.mp4\n",
      "\n"
     ]
    },
    {
     "name": "stderr",
     "output_type": "stream",
     "text": [
      "                                                                                                    \r"
     ]
    },
    {
     "name": "stdout",
     "output_type": "stream",
     "text": [
      "Moviepy - Done !\n",
      "Moviepy - video ready video/LunarLander-v2_pretraining.mp4\n",
      "\n",
      "Total reward: -308.3181842469015\n",
      "tensor(490.5037)\n",
      "tensor(458.4391)\n",
      "tensor(435.7540)\n",
      "tensor(428.6057)\n",
      "tensor(422.5146)\n",
      "50\n",
      "Moviepy - Building video video/LunarLander-v2_pretraining.mp4.\n",
      "Moviepy - Writing video video/LunarLander-v2_pretraining.mp4\n",
      "\n"
     ]
    },
    {
     "name": "stderr",
     "output_type": "stream",
     "text": [
      "                                                                                                    \r"
     ]
    },
    {
     "name": "stdout",
     "output_type": "stream",
     "text": [
      "Moviepy - Done !\n",
      "Moviepy - video ready video/LunarLander-v2_pretraining.mp4\n",
      "\n",
      "Total reward: -214.30208991308842\n",
      "tensor(12115.4375)\n",
      "tensor(8021.8755)\n",
      "tensor(5257.6943)\n",
      "tensor(3839.4844)\n",
      "tensor(3011.3669)\n",
      "50\n",
      "Moviepy - Building video video/LunarLander-v2_pretraining.mp4.\n",
      "Moviepy - Writing video video/LunarLander-v2_pretraining.mp4\n",
      "\n"
     ]
    },
    {
     "name": "stderr",
     "output_type": "stream",
     "text": [
      "                                                                                                    \r"
     ]
    },
    {
     "name": "stdout",
     "output_type": "stream",
     "text": [
      "Moviepy - Done !\n",
      "Moviepy - video ready video/LunarLander-v2_pretraining.mp4\n",
      "\n",
      "Total reward: -165.33166107261457\n",
      "tensor(6774.4814)\n",
      "tensor(3978.8108)\n",
      "tensor(3044.7349)\n",
      "tensor(2843.1538)\n",
      "tensor(2793.1838)\n",
      "50\n",
      "Moviepy - Building video video/LunarLander-v2_pretraining.mp4.\n",
      "Moviepy - Writing video video/LunarLander-v2_pretraining.mp4\n",
      "\n"
     ]
    },
    {
     "name": "stderr",
     "output_type": "stream",
     "text": [
      "                                                                                                    \r"
     ]
    },
    {
     "name": "stdout",
     "output_type": "stream",
     "text": [
      "Moviepy - Done !\n",
      "Moviepy - video ready video/LunarLander-v2_pretraining.mp4\n",
      "\n",
      "Total reward: -340.11513930832325\n",
      "tensor(1372.8002)\n",
      "tensor(240.9868)\n",
      "tensor(127.8152)\n",
      "tensor(93.6536)\n",
      "tensor(86.8752)\n",
      "50\n",
      "Moviepy - Building video video/LunarLander-v2_pretraining.mp4.\n",
      "Moviepy - Writing video video/LunarLander-v2_pretraining.mp4\n",
      "\n"
     ]
    },
    {
     "name": "stderr",
     "output_type": "stream",
     "text": [
      "                                                                                                    \r"
     ]
    },
    {
     "name": "stdout",
     "output_type": "stream",
     "text": [
      "Moviepy - Done !\n",
      "Moviepy - video ready video/LunarLander-v2_pretraining.mp4\n",
      "\n",
      "Total reward: -297.8657155090258\n",
      "tensor(15965.2900)\n",
      "tensor(1196.3490)\n",
      "tensor(304.1636)\n",
      "tensor(157.7520)\n",
      "tensor(132.5493)\n",
      "50\n",
      "Moviepy - Building video video/LunarLander-v2_pretraining.mp4.\n",
      "Moviepy - Writing video video/LunarLander-v2_pretraining.mp4\n",
      "\n"
     ]
    },
    {
     "name": "stderr",
     "output_type": "stream",
     "text": [
      "                                                                                                    \r"
     ]
    },
    {
     "name": "stdout",
     "output_type": "stream",
     "text": [
      "Moviepy - Done !\n",
      "Moviepy - video ready video/LunarLander-v2_pretraining.mp4\n",
      "\n",
      "Total reward: -321.24483461069775\n",
      "tensor(1728.9314)\n",
      "tensor(311.1040)\n",
      "tensor(164.7223)\n",
      "tensor(145.7272)\n",
      "tensor(141.7132)\n",
      "50\n",
      "Moviepy - Building video video/LunarLander-v2_pretraining.mp4.\n",
      "Moviepy - Writing video video/LunarLander-v2_pretraining.mp4\n",
      "\n"
     ]
    },
    {
     "name": "stderr",
     "output_type": "stream",
     "text": [
      "                                                                                                    \r"
     ]
    },
    {
     "name": "stdout",
     "output_type": "stream",
     "text": [
      "Moviepy - Done !\n",
      "Moviepy - video ready video/LunarLander-v2_pretraining.mp4\n",
      "\n",
      "Total reward: -408.5889305636708\n",
      "tensor(542.1514)\n",
      "tensor(467.9230)\n",
      "tensor(398.4000)\n",
      "tensor(379.1893)\n",
      "tensor(360.0727)\n",
      "50\n",
      "Moviepy - Building video video/LunarLander-v2_pretraining.mp4.\n",
      "Moviepy - Writing video video/LunarLander-v2_pretraining.mp4\n",
      "\n"
     ]
    },
    {
     "name": "stderr",
     "output_type": "stream",
     "text": [
      "                                                                                                    \r"
     ]
    },
    {
     "name": "stdout",
     "output_type": "stream",
     "text": [
      "Moviepy - Done !\n",
      "Moviepy - video ready video/LunarLander-v2_pretraining.mp4\n",
      "\n",
      "Total reward: -245.0882408864737\n",
      "tensor(15365.0840)\n",
      "tensor(6767.3564)\n",
      "tensor(4829.6973)\n",
      "tensor(3928.9045)\n",
      "tensor(3695.5129)\n",
      "50\n",
      "Moviepy - Building video video/LunarLander-v2_pretraining.mp4.\n",
      "Moviepy - Writing video video/LunarLander-v2_pretraining.mp4\n",
      "\n"
     ]
    },
    {
     "name": "stderr",
     "output_type": "stream",
     "text": [
      "                                                                                                    \r"
     ]
    },
    {
     "name": "stdout",
     "output_type": "stream",
     "text": [
      "Moviepy - Done !\n",
      "Moviepy - video ready video/LunarLander-v2_pretraining.mp4\n",
      "\n",
      "Total reward: -387.7561989221613\n",
      "tensor(1358.5140)\n",
      "tensor(797.6854)\n",
      "tensor(664.3350)\n",
      "tensor(548.8688)\n",
      "tensor(530.8646)\n",
      "50\n",
      "Moviepy - Building video video/LunarLander-v2_pretraining.mp4.\n",
      "Moviepy - Writing video video/LunarLander-v2_pretraining.mp4\n",
      "\n"
     ]
    },
    {
     "name": "stderr",
     "output_type": "stream",
     "text": [
      "                                                                                                    \r"
     ]
    },
    {
     "name": "stdout",
     "output_type": "stream",
     "text": [
      "Moviepy - Done !\n",
      "Moviepy - video ready video/LunarLander-v2_pretraining.mp4\n",
      "\n",
      "Total reward: -423.91612252853383\n",
      "tensor(1367.8489)\n",
      "tensor(338.9268)\n",
      "tensor(172.8365)\n",
      "tensor(146.9734)\n",
      "tensor(129.9692)\n",
      "50\n",
      "Moviepy - Building video video/LunarLander-v2_pretraining.mp4.\n",
      "Moviepy - Writing video video/LunarLander-v2_pretraining.mp4\n",
      "\n"
     ]
    },
    {
     "name": "stderr",
     "output_type": "stream",
     "text": [
      "                                                                                                    \r"
     ]
    },
    {
     "name": "stdout",
     "output_type": "stream",
     "text": [
      "Moviepy - Done !\n",
      "Moviepy - video ready video/LunarLander-v2_pretraining.mp4\n",
      "\n",
      "Total reward: -163.82070148550656\n",
      "tensor(2739.6123)\n",
      "tensor(2372.1970)\n",
      "tensor(1933.3892)\n",
      "tensor(1195.6227)\n",
      "tensor(1099.7511)\n",
      "50\n",
      "Moviepy - Building video video/LunarLander-v2_pretraining.mp4.\n",
      "Moviepy - Writing video video/LunarLander-v2_pretraining.mp4\n",
      "\n"
     ]
    },
    {
     "name": "stderr",
     "output_type": "stream",
     "text": [
      "                                                                                                    \r"
     ]
    },
    {
     "name": "stdout",
     "output_type": "stream",
     "text": [
      "Moviepy - Done !\n",
      "Moviepy - video ready video/LunarLander-v2_pretraining.mp4\n",
      "\n",
      "Total reward: -268.1195828827251\n",
      "tensor(747.1256)\n",
      "tensor(1678.3533)\n",
      "tensor(1187.7968)\n",
      "tensor(510.3538)\n",
      "tensor(389.1689)\n",
      "50\n",
      "Moviepy - Building video video/LunarLander-v2_pretraining.mp4.\n",
      "Moviepy - Writing video video/LunarLander-v2_pretraining.mp4\n",
      "\n"
     ]
    },
    {
     "name": "stderr",
     "output_type": "stream",
     "text": [
      "                                                                                                    \r"
     ]
    },
    {
     "name": "stdout",
     "output_type": "stream",
     "text": [
      "Moviepy - Done !\n",
      "Moviepy - video ready video/LunarLander-v2_pretraining.mp4\n",
      "\n",
      "Total reward: -351.3022192348042\n",
      "tensor(1283.7490)\n",
      "tensor(291.8680)\n",
      "tensor(166.9354)\n",
      "tensor(122.8666)\n",
      "tensor(115.2205)\n",
      "50\n",
      "Moviepy - Building video video/LunarLander-v2_pretraining.mp4.\n",
      "Moviepy - Writing video video/LunarLander-v2_pretraining.mp4\n",
      "\n"
     ]
    },
    {
     "name": "stderr",
     "output_type": "stream",
     "text": [
      "                                                                                                    \r"
     ]
    },
    {
     "name": "stdout",
     "output_type": "stream",
     "text": [
      "Moviepy - Done !\n",
      "Moviepy - video ready video/LunarLander-v2_pretraining.mp4\n",
      "\n",
      "Total reward: -9.909206513822411\n",
      "tensor(22356.3828)\n",
      "tensor(22074.4141)\n",
      "tensor(22023.5703)\n",
      "tensor(21926.5371)\n",
      "tensor(18222.0547)\n",
      "50\n",
      "Moviepy - Building video video/LunarLander-v2_pretraining.mp4.\n",
      "Moviepy - Writing video video/LunarLander-v2_pretraining.mp4\n",
      "\n"
     ]
    },
    {
     "name": "stderr",
     "output_type": "stream",
     "text": [
      "                                                                                                    \r"
     ]
    },
    {
     "name": "stdout",
     "output_type": "stream",
     "text": [
      "Moviepy - Done !\n",
      "Moviepy - video ready video/LunarLander-v2_pretraining.mp4\n",
      "\n",
      "Total reward: -263.77862874730033\n",
      "tensor(2565.3071)\n",
      "tensor(2612.4380)\n",
      "tensor(3129.7810)\n",
      "tensor(2699.2874)\n",
      "tensor(2519.6619)\n",
      "50\n",
      "Moviepy - Building video video/LunarLander-v2_pretraining.mp4.\n",
      "Moviepy - Writing video video/LunarLander-v2_pretraining.mp4\n",
      "\n"
     ]
    },
    {
     "name": "stderr",
     "output_type": "stream",
     "text": [
      "                                                                                                    \r"
     ]
    },
    {
     "name": "stdout",
     "output_type": "stream",
     "text": [
      "Moviepy - Done !\n",
      "Moviepy - video ready video/LunarLander-v2_pretraining.mp4\n",
      "\n",
      "Total reward: -344.7689621116282\n",
      "tensor(1043.9938)\n",
      "tensor(690.3546)\n",
      "tensor(442.6921)\n",
      "tensor(365.1086)\n",
      "tensor(334.4174)\n",
      "50\n",
      "Moviepy - Building video video/LunarLander-v2_pretraining.mp4.\n",
      "Moviepy - Writing video video/LunarLander-v2_pretraining.mp4\n",
      "\n"
     ]
    },
    {
     "name": "stderr",
     "output_type": "stream",
     "text": [
      "                                                                                                    \r"
     ]
    },
    {
     "name": "stdout",
     "output_type": "stream",
     "text": [
      "Moviepy - Done !\n",
      "Moviepy - video ready video/LunarLander-v2_pretraining.mp4\n",
      "\n",
      "Total reward: -374.81892861724145\n",
      "tensor(1134.3801)\n",
      "tensor(780.2780)\n",
      "tensor(646.6069)\n",
      "tensor(571.6450)\n",
      "tensor(565.8173)\n",
      "50\n",
      "Moviepy - Building video video/LunarLander-v2_pretraining.mp4.\n",
      "Moviepy - Writing video video/LunarLander-v2_pretraining.mp4\n",
      "\n"
     ]
    },
    {
     "name": "stderr",
     "output_type": "stream",
     "text": [
      "                                                                                                    \r"
     ]
    },
    {
     "name": "stdout",
     "output_type": "stream",
     "text": [
      "Moviepy - Done !\n",
      "Moviepy - video ready video/LunarLander-v2_pretraining.mp4\n",
      "\n",
      "Total reward: -294.1837709536158\n",
      "tensor(406.5090)\n",
      "tensor(358.2248)\n",
      "tensor(302.0006)\n",
      "tensor(223.3671)\n",
      "tensor(211.8857)\n",
      "50\n",
      "Moviepy - Building video video/LunarLander-v2_pretraining.mp4.\n",
      "Moviepy - Writing video video/LunarLander-v2_pretraining.mp4\n",
      "\n"
     ]
    },
    {
     "name": "stderr",
     "output_type": "stream",
     "text": [
      "                                                                                                    \r"
     ]
    },
    {
     "name": "stdout",
     "output_type": "stream",
     "text": [
      "Moviepy - Done !\n",
      "Moviepy - video ready video/LunarLander-v2_pretraining.mp4\n",
      "\n",
      "Total reward: -291.9052120223614\n",
      "tensor(15379.6191)\n",
      "tensor(13801.7842)\n",
      "tensor(13163.6035)\n",
      "tensor(13048.5518)\n",
      "tensor(13148.9775)\n",
      "50\n",
      "Moviepy - Building video video/LunarLander-v2_pretraining.mp4.\n",
      "Moviepy - Writing video video/LunarLander-v2_pretraining.mp4\n",
      "\n"
     ]
    },
    {
     "name": "stderr",
     "output_type": "stream",
     "text": [
      "                                                                                                    \r"
     ]
    },
    {
     "name": "stdout",
     "output_type": "stream",
     "text": [
      "Moviepy - Done !\n",
      "Moviepy - video ready video/LunarLander-v2_pretraining.mp4\n",
      "\n",
      "Total reward: -408.6896010641941\n",
      "tensor(28113.4258)\n",
      "tensor(4430.3789)\n",
      "tensor(3766.8374)\n",
      "tensor(3223.9768)\n",
      "tensor(2881.0146)\n",
      "50\n",
      "Moviepy - Building video video/LunarLander-v2_pretraining.mp4.\n",
      "Moviepy - Writing video video/LunarLander-v2_pretraining.mp4\n",
      "\n"
     ]
    },
    {
     "name": "stderr",
     "output_type": "stream",
     "text": [
      "                                                                                                    \r"
     ]
    },
    {
     "name": "stdout",
     "output_type": "stream",
     "text": [
      "Moviepy - Done !\n",
      "Moviepy - video ready video/LunarLander-v2_pretraining.mp4\n",
      "\n",
      "Total reward: -294.0208050490045\n",
      "tensor(1399.9705)\n",
      "tensor(653.2711)\n",
      "tensor(638.7654)\n",
      "tensor(630.4080)\n",
      "tensor(627.4623)\n",
      "50\n",
      "Moviepy - Building video video/LunarLander-v2_pretraining.mp4.\n",
      "Moviepy - Writing video video/LunarLander-v2_pretraining.mp4\n",
      "\n"
     ]
    },
    {
     "name": "stderr",
     "output_type": "stream",
     "text": [
      "                                                                                                    \r"
     ]
    },
    {
     "name": "stdout",
     "output_type": "stream",
     "text": [
      "Moviepy - Done !\n",
      "Moviepy - video ready video/LunarLander-v2_pretraining.mp4\n",
      "\n",
      "Total reward: -326.68856426023706\n",
      "tensor(481.5326)\n",
      "tensor(261.4058)\n",
      "tensor(246.3444)\n",
      "tensor(244.4083)\n",
      "tensor(243.4107)\n",
      "50\n",
      "Moviepy - Building video video/LunarLander-v2_pretraining.mp4.\n",
      "Moviepy - Writing video video/LunarLander-v2_pretraining.mp4\n",
      "\n"
     ]
    },
    {
     "name": "stderr",
     "output_type": "stream",
     "text": [
      "                                                                                                    \r"
     ]
    },
    {
     "name": "stdout",
     "output_type": "stream",
     "text": [
      "Moviepy - Done !\n",
      "Moviepy - video ready video/LunarLander-v2_pretraining.mp4\n",
      "\n",
      "Total reward: -262.12621396663235\n",
      "tensor(6934.1113)\n",
      "tensor(3474.2073)\n",
      "tensor(1892.3898)\n",
      "tensor(1089.4878)\n",
      "tensor(778.8077)\n",
      "50\n",
      "Moviepy - Building video video/LunarLander-v2_pretraining.mp4.\n",
      "Moviepy - Writing video video/LunarLander-v2_pretraining.mp4\n",
      "\n"
     ]
    },
    {
     "name": "stderr",
     "output_type": "stream",
     "text": [
      "                                                                                                    \r"
     ]
    },
    {
     "name": "stdout",
     "output_type": "stream",
     "text": [
      "Moviepy - Done !\n",
      "Moviepy - video ready video/LunarLander-v2_pretraining.mp4\n",
      "\n",
      "Total reward: -385.0595437405683\n",
      "tensor(1991.1088)\n",
      "tensor(1784.6814)\n",
      "tensor(1691.8940)\n",
      "tensor(1637.7894)\n",
      "tensor(1650.4941)\n",
      "50\n",
      "Moviepy - Building video video/LunarLander-v2_pretraining.mp4.\n",
      "Moviepy - Writing video video/LunarLander-v2_pretraining.mp4\n",
      "\n"
     ]
    },
    {
     "name": "stderr",
     "output_type": "stream",
     "text": [
      "                                                                                                    \r"
     ]
    },
    {
     "name": "stdout",
     "output_type": "stream",
     "text": [
      "Moviepy - Done !\n",
      "Moviepy - video ready video/LunarLander-v2_pretraining.mp4\n",
      "\n",
      "Total reward: -286.09751364262\n",
      "tensor(1815.5157)\n",
      "tensor(349.8504)\n",
      "tensor(321.4597)\n",
      "tensor(317.3376)\n",
      "tensor(315.9286)\n",
      "50\n",
      "Moviepy - Building video video/LunarLander-v2_pretraining.mp4.\n",
      "Moviepy - Writing video video/LunarLander-v2_pretraining.mp4\n",
      "\n"
     ]
    },
    {
     "name": "stderr",
     "output_type": "stream",
     "text": [
      "                                                                                                    \r"
     ]
    },
    {
     "name": "stdout",
     "output_type": "stream",
     "text": [
      "Moviepy - Done !\n",
      "Moviepy - video ready video/LunarLander-v2_pretraining.mp4\n",
      "\n",
      "Total reward: -408.2665447255181\n",
      "tensor(5036.3374)\n",
      "tensor(654.6372)\n",
      "tensor(515.5020)\n",
      "tensor(424.2176)\n",
      "tensor(424.3306)\n",
      "50\n",
      "Moviepy - Building video video/LunarLander-v2_pretraining.mp4.\n",
      "Moviepy - Writing video video/LunarLander-v2_pretraining.mp4\n",
      "\n"
     ]
    },
    {
     "name": "stderr",
     "output_type": "stream",
     "text": [
      "                                                                                                    \r"
     ]
    },
    {
     "name": "stdout",
     "output_type": "stream",
     "text": [
      "Moviepy - Done !\n",
      "Moviepy - video ready video/LunarLander-v2_pretraining.mp4\n",
      "\n",
      "Total reward: -155.85566566578902\n",
      "tensor(1628.1681)\n",
      "tensor(780.3293)\n",
      "tensor(598.2357)\n",
      "tensor(586.1622)\n",
      "tensor(581.8904)\n",
      "50\n",
      "Moviepy - Building video video/LunarLander-v2_pretraining.mp4.\n",
      "Moviepy - Writing video video/LunarLander-v2_pretraining.mp4\n",
      "\n"
     ]
    },
    {
     "name": "stderr",
     "output_type": "stream",
     "text": [
      "                                                                                                    \r"
     ]
    },
    {
     "name": "stdout",
     "output_type": "stream",
     "text": [
      "Moviepy - Done !\n",
      "Moviepy - video ready video/LunarLander-v2_pretraining.mp4\n",
      "\n",
      "Total reward: -409.6036132785526\n",
      "tensor(3465.3376)\n",
      "tensor(511.6761)\n",
      "tensor(490.8808)\n",
      "tensor(490.7186)\n",
      "tensor(487.1209)\n",
      "50\n",
      "Moviepy - Building video video/LunarLander-v2_pretraining.mp4.\n",
      "Moviepy - Writing video video/LunarLander-v2_pretraining.mp4\n",
      "\n"
     ]
    },
    {
     "name": "stderr",
     "output_type": "stream",
     "text": [
      "                                                                                                    \r"
     ]
    },
    {
     "name": "stdout",
     "output_type": "stream",
     "text": [
      "Moviepy - Done !\n",
      "Moviepy - video ready video/LunarLander-v2_pretraining.mp4\n",
      "\n",
      "Total reward: -188.05627116726998\n",
      "tensor(503.7831)\n",
      "tensor(489.6668)\n",
      "tensor(482.5275)\n",
      "tensor(457.1982)\n",
      "tensor(447.5148)\n",
      "50\n",
      "Moviepy - Building video video/LunarLander-v2_pretraining.mp4.\n",
      "Moviepy - Writing video video/LunarLander-v2_pretraining.mp4\n",
      "\n"
     ]
    },
    {
     "name": "stderr",
     "output_type": "stream",
     "text": [
      "                                                                                                    \r"
     ]
    },
    {
     "name": "stdout",
     "output_type": "stream",
     "text": [
      "Moviepy - Done !\n",
      "Moviepy - video ready video/LunarLander-v2_pretraining.mp4\n",
      "\n",
      "Total reward: -182.34530339993415\n",
      "tensor(3829.0737)\n",
      "tensor(971.4427)\n",
      "tensor(664.0756)\n",
      "tensor(651.0282)\n",
      "tensor(640.4479)\n",
      "50\n",
      "Moviepy - Building video video/LunarLander-v2_pretraining.mp4.\n",
      "Moviepy - Writing video video/LunarLander-v2_pretraining.mp4\n",
      "\n"
     ]
    },
    {
     "name": "stderr",
     "output_type": "stream",
     "text": [
      "                                                                                                    \r"
     ]
    },
    {
     "name": "stdout",
     "output_type": "stream",
     "text": [
      "Moviepy - Done !\n",
      "Moviepy - video ready video/LunarLander-v2_pretraining.mp4\n",
      "\n",
      "Total reward: -277.6885418359551\n",
      "tensor(35600.8789)\n",
      "tensor(6026.4692)\n",
      "tensor(4931.7666)\n",
      "tensor(4472.5562)\n",
      "tensor(4029.0906)\n",
      "50\n",
      "Moviepy - Building video video/LunarLander-v2_pretraining.mp4.\n",
      "Moviepy - Writing video video/LunarLander-v2_pretraining.mp4\n",
      "\n"
     ]
    },
    {
     "name": "stderr",
     "output_type": "stream",
     "text": [
      "                                                                                                    \r"
     ]
    },
    {
     "name": "stdout",
     "output_type": "stream",
     "text": [
      "Moviepy - Done !\n",
      "Moviepy - video ready video/LunarLander-v2_pretraining.mp4\n",
      "\n",
      "Total reward: -287.392212123646\n",
      "tensor(3468.0049)\n",
      "tensor(1818.4124)\n",
      "tensor(1490.1694)\n",
      "tensor(1342.4310)\n",
      "tensor(1303.2463)\n",
      "50\n",
      "Moviepy - Building video video/LunarLander-v2_pretraining.mp4.\n",
      "Moviepy - Writing video video/LunarLander-v2_pretraining.mp4\n",
      "\n"
     ]
    },
    {
     "name": "stderr",
     "output_type": "stream",
     "text": [
      "                                                                                                    \r"
     ]
    },
    {
     "name": "stdout",
     "output_type": "stream",
     "text": [
      "Moviepy - Done !\n",
      "Moviepy - video ready video/LunarLander-v2_pretraining.mp4\n",
      "\n",
      "Total reward: -186.96337489860736\n",
      "tensor(10641.6982)\n",
      "tensor(10476.5225)\n",
      "tensor(10472.5176)\n",
      "tensor(10434.2031)\n",
      "tensor(10419.3105)\n",
      "50\n",
      "Moviepy - Building video video/LunarLander-v2_pretraining.mp4.\n",
      "Moviepy - Writing video video/LunarLander-v2_pretraining.mp4\n",
      "\n"
     ]
    },
    {
     "name": "stderr",
     "output_type": "stream",
     "text": [
      "                                                                                                    \r"
     ]
    },
    {
     "name": "stdout",
     "output_type": "stream",
     "text": [
      "Moviepy - Done !\n",
      "Moviepy - video ready video/LunarLander-v2_pretraining.mp4\n",
      "\n",
      "Total reward: -284.7169760574896\n",
      "tensor(942.6088)\n",
      "tensor(3031.3816)\n",
      "tensor(1707.1586)\n",
      "tensor(795.0897)\n",
      "tensor(667.1749)\n",
      "50\n",
      "Moviepy - Building video video/LunarLander-v2_pretraining.mp4.\n",
      "Moviepy - Writing video video/LunarLander-v2_pretraining.mp4\n",
      "\n"
     ]
    },
    {
     "name": "stderr",
     "output_type": "stream",
     "text": [
      "                                                                                                    \r"
     ]
    },
    {
     "name": "stdout",
     "output_type": "stream",
     "text": [
      "Moviepy - Done !\n",
      "Moviepy - video ready video/LunarLander-v2_pretraining.mp4\n",
      "\n",
      "Total reward: -260.47377719030163\n",
      "tensor(7611.1313)\n",
      "tensor(4281.9673)\n",
      "tensor(2053.1201)\n",
      "tensor(919.8713)\n",
      "tensor(401.5712)\n",
      "50\n",
      "Moviepy - Building video video/LunarLander-v2_pretraining.mp4.\n",
      "Moviepy - Writing video video/LunarLander-v2_pretraining.mp4\n",
      "\n"
     ]
    },
    {
     "name": "stderr",
     "output_type": "stream",
     "text": [
      "                                                                                                    \r"
     ]
    },
    {
     "name": "stdout",
     "output_type": "stream",
     "text": [
      "Moviepy - Done !\n",
      "Moviepy - video ready video/LunarLander-v2_pretraining.mp4\n",
      "\n",
      "Total reward: -457.7135200177534\n",
      "tensor(17570.5410)\n",
      "tensor(8830.8975)\n",
      "tensor(7448.1309)\n",
      "tensor(6259.1567)\n",
      "tensor(5366.2310)\n",
      "50\n",
      "Moviepy - Building video video/LunarLander-v2_pretraining.mp4.\n",
      "Moviepy - Writing video video/LunarLander-v2_pretraining.mp4\n",
      "\n"
     ]
    },
    {
     "name": "stderr",
     "output_type": "stream",
     "text": [
      "                                                                                                    \r"
     ]
    },
    {
     "name": "stdout",
     "output_type": "stream",
     "text": [
      "Moviepy - Done !\n",
      "Moviepy - video ready video/LunarLander-v2_pretraining.mp4\n",
      "\n",
      "Total reward: -284.04034571456936\n",
      "tensor(1764.3571)\n",
      "tensor(1048.7311)\n",
      "tensor(947.2586)\n",
      "tensor(899.9047)\n",
      "tensor(885.8615)\n",
      "50\n",
      "Moviepy - Building video video/LunarLander-v2_pretraining.mp4.\n",
      "Moviepy - Writing video video/LunarLander-v2_pretraining.mp4\n",
      "\n"
     ]
    },
    {
     "name": "stderr",
     "output_type": "stream",
     "text": [
      "                                                                                                    \r"
     ]
    },
    {
     "name": "stdout",
     "output_type": "stream",
     "text": [
      "Moviepy - Done !\n",
      "Moviepy - video ready video/LunarLander-v2_pretraining.mp4\n",
      "\n",
      "Total reward: -266.0572452576992\n",
      "tensor(5263.4141)\n",
      "tensor(3680.1548)\n",
      "tensor(3231.8262)\n",
      "tensor(3108.2922)\n",
      "tensor(2985.6765)\n",
      "50\n",
      "Moviepy - Building video video/LunarLander-v2_pretraining.mp4.\n",
      "Moviepy - Writing video video/LunarLander-v2_pretraining.mp4\n",
      "\n"
     ]
    },
    {
     "name": "stderr",
     "output_type": "stream",
     "text": [
      "                                                                                                    \r"
     ]
    },
    {
     "name": "stdout",
     "output_type": "stream",
     "text": [
      "Moviepy - Done !\n",
      "Moviepy - video ready video/LunarLander-v2_pretraining.mp4\n",
      "\n",
      "Total reward: -103.64566179264368\n",
      "tensor(2537.5576)\n",
      "tensor(1264.8079)\n",
      "tensor(1255.2739)\n",
      "tensor(1247.6493)\n",
      "tensor(1245.5068)\n",
      "50\n",
      "Moviepy - Building video video/LunarLander-v2_pretraining.mp4.\n",
      "Moviepy - Writing video video/LunarLander-v2_pretraining.mp4\n",
      "\n"
     ]
    },
    {
     "name": "stderr",
     "output_type": "stream",
     "text": [
      "                                                                                                    \r"
     ]
    },
    {
     "name": "stdout",
     "output_type": "stream",
     "text": [
      "Moviepy - Done !\n",
      "Moviepy - video ready video/LunarLander-v2_pretraining.mp4\n",
      "\n",
      "Total reward: -211.8480433214271\n",
      "tensor(1593.7948)\n",
      "tensor(876.0817)\n",
      "tensor(742.9323)\n",
      "tensor(656.2580)\n",
      "tensor(600.4018)\n",
      "50\n",
      "Moviepy - Building video video/LunarLander-v2_pretraining.mp4.\n",
      "Moviepy - Writing video video/LunarLander-v2_pretraining.mp4\n",
      "\n"
     ]
    },
    {
     "name": "stderr",
     "output_type": "stream",
     "text": [
      "                                                                                                    \r"
     ]
    },
    {
     "name": "stdout",
     "output_type": "stream",
     "text": [
      "Moviepy - Done !\n",
      "Moviepy - video ready video/LunarLander-v2_pretraining.mp4\n",
      "\n",
      "Total reward: -239.8952584538521\n",
      "tensor(1286.4943)\n",
      "tensor(1393.0575)\n",
      "tensor(2630.5706)\n",
      "tensor(2121.4265)\n",
      "tensor(1295.2524)\n",
      "50\n",
      "Moviepy - Building video video/LunarLander-v2_pretraining.mp4.\n",
      "Moviepy - Writing video video/LunarLander-v2_pretraining.mp4\n",
      "\n"
     ]
    },
    {
     "name": "stderr",
     "output_type": "stream",
     "text": [
      "                                                                                                    \r"
     ]
    },
    {
     "name": "stdout",
     "output_type": "stream",
     "text": [
      "Moviepy - Done !\n",
      "Moviepy - video ready video/LunarLander-v2_pretraining.mp4\n",
      "\n",
      "Total reward: -119.4507625698181\n",
      "tensor(12918.8379)\n",
      "tensor(12207.6885)\n",
      "tensor(12175.7227)\n",
      "tensor(12133.9229)\n",
      "tensor(12095.7822)\n",
      "50\n",
      "Moviepy - Building video video/LunarLander-v2_pretraining.mp4.\n",
      "Moviepy - Writing video video/LunarLander-v2_pretraining.mp4\n",
      "\n"
     ]
    },
    {
     "name": "stderr",
     "output_type": "stream",
     "text": [
      "                                                                                                    \r"
     ]
    },
    {
     "name": "stdout",
     "output_type": "stream",
     "text": [
      "Moviepy - Done !\n",
      "Moviepy - video ready video/LunarLander-v2_pretraining.mp4\n",
      "\n",
      "Total reward: -339.95977688905873\n",
      "tensor(1101.1698)\n",
      "tensor(1960.2362)\n",
      "tensor(537.9502)\n",
      "tensor(281.9217)\n",
      "tensor(157.3273)\n",
      "50\n",
      "Moviepy - Building video video/LunarLander-v2_pretraining.mp4.\n",
      "Moviepy - Writing video video/LunarLander-v2_pretraining.mp4\n",
      "\n"
     ]
    },
    {
     "name": "stderr",
     "output_type": "stream",
     "text": [
      "                                                                                                    \r"
     ]
    },
    {
     "name": "stdout",
     "output_type": "stream",
     "text": [
      "Moviepy - Done !\n",
      "Moviepy - video ready video/LunarLander-v2_pretraining.mp4\n",
      "\n",
      "Total reward: -371.640978264205\n",
      "tensor(805.5409)\n",
      "tensor(127.7518)\n",
      "tensor(104.1414)\n",
      "tensor(90.0656)\n",
      "tensor(85.0067)\n",
      "50\n",
      "Moviepy - Building video video/LunarLander-v2_pretraining.mp4.\n",
      "Moviepy - Writing video video/LunarLander-v2_pretraining.mp4\n",
      "\n"
     ]
    },
    {
     "name": "stderr",
     "output_type": "stream",
     "text": [
      "                                                                                                    \r"
     ]
    },
    {
     "name": "stdout",
     "output_type": "stream",
     "text": [
      "Moviepy - Done !\n",
      "Moviepy - video ready video/LunarLander-v2_pretraining.mp4\n",
      "\n",
      "Total reward: -574.56473617645\n",
      "tensor(287.3697)\n",
      "tensor(726.3547)\n",
      "tensor(2964.0723)\n",
      "tensor(2158.5024)\n",
      "tensor(389.5988)\n",
      "50\n",
      "Moviepy - Building video video/LunarLander-v2_pretraining.mp4.\n",
      "Moviepy - Writing video video/LunarLander-v2_pretraining.mp4\n",
      "\n"
     ]
    },
    {
     "name": "stderr",
     "output_type": "stream",
     "text": [
      "                                                                                                    \r"
     ]
    },
    {
     "name": "stdout",
     "output_type": "stream",
     "text": [
      "Moviepy - Done !\n",
      "Moviepy - video ready video/LunarLander-v2_pretraining.mp4\n",
      "\n",
      "Total reward: -197.95978932558418\n",
      "tensor(24121.7363)\n",
      "tensor(12969.7510)\n",
      "tensor(10214.5049)\n",
      "tensor(8261.2920)\n",
      "tensor(6791.2710)\n",
      "50\n",
      "Moviepy - Building video video/LunarLander-v2_pretraining.mp4.\n",
      "Moviepy - Writing video video/LunarLander-v2_pretraining.mp4\n",
      "\n"
     ]
    },
    {
     "name": "stderr",
     "output_type": "stream",
     "text": [
      "                                                                                                    \r"
     ]
    },
    {
     "name": "stdout",
     "output_type": "stream",
     "text": [
      "Moviepy - Done !\n",
      "Moviepy - video ready video/LunarLander-v2_pretraining.mp4\n",
      "\n",
      "Total reward: -210.74538409184157\n",
      "tensor(4202.8276)\n",
      "tensor(1610.1473)\n",
      "tensor(1122.8230)\n",
      "tensor(905.5720)\n",
      "tensor(828.5694)\n",
      "50\n",
      "Moviepy - Building video video/LunarLander-v2_pretraining.mp4.\n",
      "Moviepy - Writing video video/LunarLander-v2_pretraining.mp4\n",
      "\n"
     ]
    },
    {
     "name": "stderr",
     "output_type": "stream",
     "text": [
      "                                                                                                    \r"
     ]
    },
    {
     "name": "stdout",
     "output_type": "stream",
     "text": [
      "Moviepy - Done !\n",
      "Moviepy - video ready video/LunarLander-v2_pretraining.mp4\n",
      "\n",
      "Total reward: -92.77184992724179\n",
      "tensor(572.7192)\n",
      "tensor(730.4559)\n",
      "tensor(584.7354)\n",
      "tensor(493.9849)\n",
      "tensor(440.1833)\n",
      "50\n",
      "Moviepy - Building video video/LunarLander-v2_pretraining.mp4.\n",
      "Moviepy - Writing video video/LunarLander-v2_pretraining.mp4\n",
      "\n"
     ]
    },
    {
     "name": "stderr",
     "output_type": "stream",
     "text": [
      "                                                                                                    \r"
     ]
    },
    {
     "name": "stdout",
     "output_type": "stream",
     "text": [
      "Moviepy - Done !\n",
      "Moviepy - video ready video/LunarLander-v2_pretraining.mp4\n",
      "\n",
      "Total reward: -407.3112582943305\n",
      "tensor(8356.3447)\n",
      "tensor(3162.8989)\n",
      "tensor(566.4643)\n"
     ]
    }
   ],
   "source": [
    "for k in range(400//50, 1000000):\n",
    "    for j in range(50):\n",
    "        for i in range(5):\n",
    "            model2.learn(training_set)\n",
    "\n",
    "        env = gym.make(env_name, render_mode=\"rgb_array\")\n",
    "        vid = VideoRecorder(env, path=f\"video/{env_name}_pretraining.mp4\")\n",
    "        print(vid.frames_per_sec)\n",
    "        observation = env.reset()[0]\n",
    "\n",
    "        total_reward = 0\n",
    "        done = False\n",
    "\n",
    "        training_set = []\n",
    "\n",
    "        while not done:\n",
    "            frame = env.render()\n",
    "            vid.capture_frame()\n",
    "            action, states = model2.predict(observation, True)\n",
    "            observation_old = observation\n",
    "          # print(action)\n",
    "            observation, reward, done, info, _ = env.step(action)\n",
    "            total_reward += reward\n",
    "            training_set.append([observation, action, reward])\n",
    "        vid.close()\n",
    "        env.close()\n",
    "        print(f\"\\nTotal reward: {total_reward}\")\n",
    "\n",
    "        # show video\n",
    "        html = render_mp4(f\"video/{env_name}_pretraining.mp4\")\n",
    "        HTML(html)\n",
    "        \n",
    "        path = 'model2_' + str(50 * k) + '.pkl'\n",
    "        with open(path, 'wb') as f:\n",
    "            pickle.dump(model2, f)"
   ]
  },
  {
   "cell_type": "code",
   "execution_count": null,
   "id": "2d123b6b",
   "metadata": {},
   "outputs": [],
   "source": [
    "env = gym.make(env_name, render_mode=\"rgb_array\")\n",
    "vid = VideoRecorder(env, path=f\"video/{env_name}_pretraining.mp4\")\n",
    "print(vid.frames_per_sec)\n",
    "observation = env.reset()[0]\n",
    "\n",
    "total_reward = 0\n",
    "done = False\n",
    "\n",
    "training_set = []\n",
    "\n",
    "while not done:\n",
    "    frame = env.render()\n",
    "    vid.capture_frame()\n",
    "    action, states = model2.predict(observation, True)\n",
    "    observation_old = observation\n",
    "  # print(action)\n",
    "    observation, reward, done, info, _ = env.step(action)\n",
    "    total_reward += reward\n",
    "    training_set.append([observation, action, reward])\n",
    "vid.close()\n",
    "env.close()\n",
    "print(f\"\\nTotal reward: {total_reward}\")\n",
    "\n",
    "# show video\n",
    "html = render_mp4(f\"video/{env_name}_pretraining.mp4\")\n",
    "HTML(html)"
   ]
  },
  {
   "cell_type": "code",
   "execution_count": 16,
   "id": "f5a937d1",
   "metadata": {},
   "outputs": [],
   "source": []
  },
  {
   "cell_type": "code",
   "execution_count": 28,
   "id": "6fd904d7",
   "metadata": {},
   "outputs": [
    {
     "data": {
      "text/plain": [
       "[[array([-0.00748262,  1.4001019 , -0.3842022 , -0.2532761 ,  0.01043133,\n",
       "          0.12269433,  0.        ,  0.        ], dtype=float32),\n",
       "  1,\n",
       "  -2.222957198835813],\n",
       " [array([-0.01135521,  1.3937941 , -0.39581314, -0.28043857,  0.01888825,\n",
       "          0.169154  ,  0.        ,  0.        ], dtype=float32),\n",
       "  1,\n",
       "  -2.73928862330328],\n",
       " [array([-0.01532173,  1.3868897 , -0.40758237, -0.30703086,  0.02969735,\n",
       "          0.21620214,  0.        ,  0.        ], dtype=float32),\n",
       "  1,\n",
       "  -2.9437100729961956],\n",
       " [array([-0.0193819 ,  1.3793924 , -0.41930708, -0.33352473,  0.04284549,\n",
       "          0.26298693,  0.        ,  0.        ], dtype=float32),\n",
       "  1,\n",
       "  -3.149397683997931],\n",
       " [array([-0.02352619,  1.3713013 , -0.42984265, -0.36011913,  0.05809211,\n",
       "          0.3049607 ,  0.        ,  0.        ], dtype=float32),\n",
       "  1,\n",
       "  -3.2502814571856207],\n",
       " [array([-0.02776795,  1.362602  , -0.44201502, -0.38743386,  0.07577744,\n",
       "          0.35373905,  0.        ,  0.        ], dtype=float32),\n",
       "  1,\n",
       "  -3.6385616677458175],\n",
       " [array([-0.03210354,  1.3532915 , -0.45376253, -0.414944  ,  0.09582072,\n",
       "          0.4009028 ,  0.        ,  0.        ], dtype=float32),\n",
       "  1,\n",
       "  -3.8234464604898606],\n",
       " [array([-0.03650713,  1.3433806 , -0.46221724, -0.44203588,  0.11755004,\n",
       "          0.4346265 ,  0.        ,  0.        ], dtype=float32),\n",
       "  1,\n",
       "  -3.691517936130849],\n",
       " [array([-0.04097576,  1.3328553 , -0.47032422, -0.4698034 ,  0.1409248 ,\n",
       "          0.46753803,  0.        ,  0.        ], dtype=float32),\n",
       "  1,\n",
       "  -3.8491206990620115],\n",
       " [array([-0.04554129,  1.3217105 , -0.48238254, -0.49797788,  0.16675404,\n",
       "          0.5166326 ,  0.        ,  0.        ], dtype=float32),\n",
       "  1,\n",
       "  -4.367555622089525],\n",
       " [array([-0.05018349,  1.3099632 , -0.49180055, -0.5254352 ,  0.19447231,\n",
       "          0.55441636,  0.        ,  0.        ], dtype=float32),\n",
       "  1,\n",
       "  -4.2827750871891785],\n",
       " [array([-0.0549181 ,  1.2975974 , -0.50321466, -0.5537862 ,  0.2245353 ,\n",
       "          0.6013151 ,  0.        ,  0.        ], dtype=float32),\n",
       "  1,\n",
       "  -4.67778685174727],\n",
       " [array([-0.05972767,  1.2846138 , -0.51237273, -0.58214957,  0.25650436,\n",
       "          0.63943946,  0.        ,  0.        ], dtype=float32),\n",
       "  1,\n",
       "  -4.67595621236245],\n",
       " [array([-0.06460829,  1.2710166 , -0.52097666, -0.6104466 ,  0.29026955,\n",
       "          0.67536515,  0.        ,  0.        ], dtype=float32),\n",
       "  1,\n",
       "  -4.774040649711963],\n",
       " [array([-0.06956701,  1.2567937 , -0.53038394, -0.63940775,  0.3260595 ,\n",
       "          0.71586484,  0.        ,  0.        ], dtype=float32),\n",
       "  1,\n",
       "  -5.036770751646855],\n",
       " [array([-0.0746171 ,  1.2419492 , -0.54131687, -0.66840756,  0.3641745 ,\n",
       "          0.7623695 ,  0.        ,  0.        ], dtype=float32),\n",
       "  1,\n",
       "  -5.324576675287402],\n",
       " [array([-0.07975368,  1.2264767 , -0.5515458 , -0.6978337 ,  0.40454006,\n",
       "          0.80738527,  0.        ,  0.        ], dtype=float32),\n",
       "  1,\n",
       "  -5.4911830624605775],\n",
       " [array([-0.08497439,  1.2103816 , -0.5612639 , -0.72711736,  0.44704542,\n",
       "          0.8501846 ,  0.        ,  0.        ], dtype=float32),\n",
       "  1,\n",
       "  -5.615978272193558],\n",
       " [array([-0.09026575,  1.1936562 , -0.56924856, -0.7568313 ,  0.49144876,\n",
       "          0.8881482 ,  0.        ,  0.        ], dtype=float32),\n",
       "  1,\n",
       "  -5.68814522554291],\n",
       " [array([-0.09563732,  1.1763079 , -0.57810223, -0.78639376,  0.5378864 ,\n",
       "          0.9288376 ,  0.        ,  0.        ], dtype=float32),\n",
       "  1,\n",
       "  -5.886855938280262],\n",
       " [array([-0.10101996,  1.1583831 , -0.57809   , -0.8132551 ,  0.58430976,\n",
       "          0.9285525 ,  0.        ,  0.        ], dtype=float32),\n",
       "  0,\n",
       "  -5.077607590121602],\n",
       " [array([-0.10641432,  1.139881  , -0.57806206, -0.8401175 ,  0.6307197 ,\n",
       "          0.9282845 ,  0.        ,  0.        ], dtype=float32),\n",
       "  0,\n",
       "  -5.046525758711539],\n",
       " [array([-0.11182146,  1.1208007 , -0.57801867, -0.8669805 ,  0.677116  ,\n",
       "          0.9280092 ,  0.        ,  0.        ], dtype=float32),\n",
       "  0,\n",
       "  -5.014138598535851],\n",
       " [array([-0.11724158,  1.1011417 , -0.5779595 , -0.8938433 ,  0.7234985 ,\n",
       "          0.9277342 ,  0.        ,  0.        ], dtype=float32),\n",
       "  0,\n",
       "  -4.980600581950284],\n",
       " [array([-0.12266541,  1.0808871 , -0.5769369 , -0.92141944,  0.7698717 ,\n",
       "          0.9274645 ,  0.        ,  0.        ], dtype=float32),\n",
       "  0,\n",
       "  -4.95498135044636],\n",
       " [array([-0.12810259,  1.0600529 , -0.57675314, -0.9482185 ,  0.816238  ,\n",
       "          0.92732716,  0.        ,  0.        ], dtype=float32),\n",
       "  0,\n",
       "  -4.901582837626677],\n",
       " [array([-0.1335537 ,  1.0386384 , -0.57656044, -0.9750117 ,  0.8625974 ,\n",
       "          0.92718995,  0.        ,  0.        ], dtype=float32),\n",
       "  0,\n",
       "  -4.866257310763331],\n",
       " [array([-0.1390194 ,  1.0166423 , -0.57635915, -1.0017989 ,  0.90895   ,\n",
       "          0.9270527 ,  0.        ,  0.        ], dtype=float32),\n",
       "  0,\n",
       "  -4.830371460177503],\n",
       " [array([-0.14450006,  0.99406356, -0.5761498 , -1.0285796 ,  0.9552957 ,\n",
       "          0.92691565,  0.        ,  0.        ], dtype=float32),\n",
       "  0,\n",
       "  -4.794000012599781],\n",
       " [array([-0.14999637,  0.9709014 , -0.5759326 , -1.0553538 ,  1.0016346 ,\n",
       "          0.9267787 ,  0.        ,  0.        ], dtype=float32),\n",
       "  0,\n",
       "  -4.757385566082519],\n",
       " [array([-0.15556565,  0.9470458 , -0.58284074, -1.0886123 ,  1.0508001 ,\n",
       "          0.9833109 ,  0.        ,  0.        ], dtype=float32),\n",
       "  1,\n",
       "  -5.932637438265345],\n",
       " [array([-0.1611536 ,  0.9226058 , -0.5825804 , -1.1153842 ,  1.0999575 ,\n",
       "          0.98314714,  0.        ,  0.        ], dtype=float32),\n",
       "  0,\n",
       "  -4.953907837139809],\n",
       " [array([-0.16679068,  0.89747685, -0.5863143 , -1.1482332 ,  1.1515176 ,\n",
       "          1.0312035 ,  0.        ,  0.        ], dtype=float32),\n",
       "  1,\n",
       "  -5.902954885786385],\n",
       " [array([-0.17248897,  0.8716381 , -0.5910815 , -1.182381  ,  1.2060274 ,\n",
       "          1.0901977 ,  0.        ,  0.        ], dtype=float32),\n",
       "  1,\n",
       "  -6.313573688257207],\n",
       " [array([-0.17823724,  0.8450918 , -0.5941167 , -1.216296  ,  1.2632898 ,\n",
       "          1.1452504 ,  0.        ,  0.        ], dtype=float32),\n",
       "  1,\n",
       "  -6.445444610969928],\n",
       " [array([-0.18404274,  0.81784445, -0.59736687, -1.2498871 ,  1.3232179 ,\n",
       "          1.1985611 ,  0.        ,  0.        ], dtype=float32),\n",
       "  1,\n",
       "  -6.650119898145902],\n",
       " [array([-0.18987922,  0.7900084 , -0.5969316 , -1.2766366 ,  1.3831311 ,\n",
       "          1.198265  ,  0.        ,  0.        ], dtype=float32),\n",
       "  0,\n",
       "  -5.81209885581211],\n",
       " [array([-0.19576502,  0.7614686 , -0.59864026, -1.3100876 ,  1.4456006 ,\n",
       "          1.2493927 ,  0.        ,  0.        ], dtype=float32),\n",
       "  1,\n",
       "  -6.757415987175391],\n",
       " [array([-0.20169917,  0.7322019 , -0.5997659 , -1.3447573 ,  1.5110706 ,\n",
       "          1.3094046 ,  0.        ,  0.        ], dtype=float32),\n",
       "  1,\n",
       "  -7.107669335072983],\n",
       " [array([-0.2076673,  0.7024345, -0.5988239, -1.3657134,  1.5743529,\n",
       "          1.2656484,  0.       ,  0.       ], dtype=float32),\n",
       "  3,\n",
       "  -5.538089925864624],\n",
       " [array([-0.21367021,  0.6721872 , -0.59840864, -1.3851943 ,  1.6349026 ,\n",
       "          1.2109977 ,  0.        ,  0.        ], dtype=float32),\n",
       "  3,\n",
       "  -5.138775679494159],\n",
       " [array([-0.21970125,  0.64142346, -0.59774524, -1.4066808 ,  1.6934929 ,\n",
       "          1.1718079 ,  0.        ,  0.        ], dtype=float32),\n",
       "  3,\n",
       "  -5.105541273638294],\n",
       " [array([-0.22577414,  0.6101708 , -0.5989525 , -1.4263769 ,  1.7494287 ,\n",
       "          1.1187205 ,  0.        ,  0.        ], dtype=float32),\n",
       "  3,\n",
       "  -4.744460588165025],\n",
       " [array([-0.23188981,  0.578434  , -0.60074824, -1.4456656 ,  1.8025497 ,\n",
       "          1.0624229 ,  0.        ,  0.        ], dtype=float32),\n",
       "  3,\n",
       "  -4.449417041810789],\n",
       " [array([-0.23804235,  0.5462136 , -0.60243   , -1.4648901 ,  1.8528514 ,\n",
       "          1.0060344 ,  0.        ,  0.        ], dtype=float32),\n",
       "  3,\n",
       "  -4.165621801789739],\n",
       " [array([-0.24423313,  0.5134762 , -0.60448027, -1.4860543 ,  1.901038  ,\n",
       "          0.96373284,  0.        ,  0.        ], dtype=float32),\n",
       "  3,\n",
       "  -4.162324169680487],\n",
       " [array([-0.2504561,  0.4802185, -0.6062211, -1.5073998,  1.9472067,\n",
       "          0.9233758,  0.       ,  0.       ], dtype=float32),\n",
       "  3,\n",
       "  -3.9915034123316944],\n",
       " [array([-0.2567207 ,  0.44643074, -0.6091564 , -1.5292491 ,  1.9914652 ,\n",
       "          0.88517064,  0.        ,  0.        ], dtype=float32),\n",
       "  3,\n",
       "  -3.9308627552405526],\n",
       " [array([-0.26303586,  0.4121484 , -0.61362827, -1.5490421 ,  2.0329876 ,\n",
       "          0.83044654,  0.        ,  0.        ], dtype=float32),\n",
       "  3,\n",
       "  -3.5818363714570567],\n",
       " [array([-0.2694075 ,  0.37736437, -0.6190075 , -1.569236  ,  2.0718417 ,\n",
       "          0.7770819 ,  0.        ,  0.        ], dtype=float32),\n",
       "  3,\n",
       "  -3.464376226775214],\n",
       " [array([-0.27583003,  0.3420946 , -0.6242401 , -1.5886481 ,  2.1077895 ,\n",
       "          0.71896267,  0.        ,  0.        ], dtype=float32),\n",
       "  3,\n",
       "  -3.200723535788852],\n",
       " [array([-0.28230038,  0.30633283, -0.6293951 , -1.6085174 ,  2.1410043 ,\n",
       "          0.66429794,  0.        ,  0.        ], dtype=float32),\n",
       "  3,\n",
       "  -3.102417074906525],\n",
       " [array([-0.28882942,  0.27007085, -0.6358659 , -1.6288296 ,  2.171501  ,\n",
       "          0.6099346 ,  0.        ,  0.        ], dtype=float32),\n",
       "  3,\n",
       "  -3.092206383386183],\n",
       " [array([-0.2954088 ,  0.23327902, -0.641348  , -1.6508996 ,  2.1999466 ,\n",
       "          0.5689151 ,  0.        ,  0.        ], dtype=float32),\n",
       "  3,\n",
       "  -3.2287291790369452],\n",
       " [array([-0.30204344,  0.19597608, -0.6477202 , -1.6719768 ,  2.2259362 ,\n",
       "          0.51979244,  0.        ,  0.        ], dtype=float32),\n",
       "  3,\n",
       "  -3.1884482584278246],\n",
       " [array([-0.3087232 ,  0.15814906, -0.65300477, -1.6939114 ,  2.2498648 ,\n",
       "          0.47857887,  0.        ,  0.        ], dtype=float32),\n",
       "  3,\n",
       "  -3.341577595026506],\n",
       " [array([-0.3154449 ,  0.11979769, -0.65804046, -1.7159436 ,  2.2717993 ,\n",
       "          0.43869013,  0.        ,  0.        ], dtype=float32),\n",
       "  3,\n",
       "  -3.5159670640693137],\n",
       " [array([-0.32221776,  0.08091718, -0.66416305, -1.7382001 ,  2.2916718 ,\n",
       "          0.3974478 ,  0.        ,  0.        ], dtype=float32),\n",
       "  3,\n",
       "  -3.7942628923439927],\n",
       " [array([-0.32860002,  0.0493357 , -0.43407455,  0.01308813,  2.3212113 ,\n",
       "          1.3044988 ,  0.        ,  0.        ], dtype=float32),\n",
       "  3,\n",
       "  -100]]"
      ]
     },
     "execution_count": 28,
     "metadata": {},
     "output_type": "execute_result"
    }
   ],
   "source": [
    "training_set"
   ]
  },
  {
   "cell_type": "code",
   "execution_count": 23,
   "id": "b1ff9de1",
   "metadata": {},
   "outputs": [],
   "source": [
    "import pickle"
   ]
  },
  {
   "cell_type": "code",
   "execution_count": 31,
   "id": "8393a5b7",
   "metadata": {},
   "outputs": [],
   "source": [
    "with open('Jupyter projects/Lunar_lander_traning_set.pkl', 'wb') as f:\n",
    "    pickle.dump(training_set, f)"
   ]
  },
  {
   "cell_type": "code",
   "execution_count": null,
   "id": "1f79becc",
   "metadata": {},
   "outputs": [],
   "source": []
  },
  {
   "cell_type": "code",
   "execution_count": 403,
   "id": "7588d3d3",
   "metadata": {},
   "outputs": [],
   "source": [
    "dct = {}\n",
    "dct[0] = [1, 0, 0, 0]\n",
    "dct[1] = [0, 1, 0, 0]\n",
    "dct[2] = [0, 0, 1, 0]\n",
    "dct[3] = [0, 0, 0, 1]\n",
    "\n",
    "out = []\n",
    "Y = []\n",
    "for i in training_set:\n",
    "    temp = []\n",
    "    temp.extend(i[0])\n",
    "    temp.extend(dct[i[1]])\n",
    "    out.append(temp)\n",
    "    Y.append(i[-1])\n",
    "    \n",
    "x = torch.tensor(out)"
   ]
  },
  {
   "cell_type": "code",
   "execution_count": 404,
   "id": "cc7493e2",
   "metadata": {},
   "outputs": [
    {
     "name": "stdout",
     "output_type": "stream",
     "text": [
      "loss:  tensor(5.0906e-06, grad_fn=<MseLossBackward0>)\n",
      "loss:  tensor(0.0096, grad_fn=<MseLossBackward0>)\n",
      "loss:  tensor(0.0081, grad_fn=<MseLossBackward0>)\n",
      "loss:  tensor(0.0756, grad_fn=<MseLossBackward0>)\n",
      "loss:  tensor(1.1618, grad_fn=<MseLossBackward0>)\n",
      "loss:  tensor(2.3713, grad_fn=<MseLossBackward0>)\n",
      "loss:  tensor(3.0579, grad_fn=<MseLossBackward0>)\n",
      "loss:  tensor(4.1628, grad_fn=<MseLossBackward0>)\n",
      "loss:  tensor(4.9944, grad_fn=<MseLossBackward0>)\n",
      "loss:  tensor(6.3461, grad_fn=<MseLossBackward0>)\n",
      "loss:  tensor(6.7893, grad_fn=<MseLossBackward0>)\n",
      "loss:  tensor(9.0527, grad_fn=<MseLossBackward0>)\n",
      "loss:  tensor(9.8744, grad_fn=<MseLossBackward0>)\n",
      "loss:  tensor(11.6132, grad_fn=<MseLossBackward0>)\n",
      "loss:  tensor(13.8205, grad_fn=<MseLossBackward0>)\n",
      "loss:  tensor(15.5122, grad_fn=<MseLossBackward0>)\n",
      "loss:  tensor(17.2541, grad_fn=<MseLossBackward0>)\n",
      "loss:  tensor(18.4819, grad_fn=<MseLossBackward0>)\n",
      "loss:  tensor(20.2939, grad_fn=<MseLossBackward0>)\n",
      "loss:  tensor(22.1902, grad_fn=<MseLossBackward0>)\n",
      "loss:  tensor(22.9080, grad_fn=<MseLossBackward0>)\n",
      "loss:  tensor(25.0038, grad_fn=<MseLossBackward0>)\n",
      "loss:  tensor(27.1792, grad_fn=<MseLossBackward0>)\n",
      "loss:  tensor(29.6609, grad_fn=<MseLossBackward0>)\n",
      "loss:  tensor(32.7137, grad_fn=<MseLossBackward0>)\n",
      "loss:  tensor(32.4876, grad_fn=<MseLossBackward0>)\n",
      "loss:  tensor(34.4661, grad_fn=<MseLossBackward0>)\n",
      "loss:  tensor(38.0106, grad_fn=<MseLossBackward0>)\n",
      "loss:  tensor(38.6162, grad_fn=<MseLossBackward0>)\n",
      "loss:  tensor(42.7300, grad_fn=<MseLossBackward0>)\n",
      "loss:  tensor(44.7306, grad_fn=<MseLossBackward0>)\n",
      "loss:  tensor(47.4499, grad_fn=<MseLossBackward0>)\n",
      "loss:  tensor(47.6679, grad_fn=<MseLossBackward0>)\n",
      "loss:  tensor(49.3073, grad_fn=<MseLossBackward0>)\n",
      "loss:  tensor(53.2501, grad_fn=<MseLossBackward0>)\n",
      "loss:  tensor(56.9528, grad_fn=<MseLossBackward0>)\n",
      "loss:  tensor(59.5441, grad_fn=<MseLossBackward0>)\n",
      "loss:  tensor(65.4473, grad_fn=<MseLossBackward0>)\n",
      "loss:  tensor(70.2858, grad_fn=<MseLossBackward0>)\n",
      "loss:  tensor(67.8571, grad_fn=<MseLossBackward0>)\n",
      "loss:  tensor(77.0641, grad_fn=<MseLossBackward0>)\n",
      "loss:  tensor(75.3697, grad_fn=<MseLossBackward0>)\n",
      "loss:  tensor(80.9126, grad_fn=<MseLossBackward0>)\n",
      "loss:  tensor(86.5678, grad_fn=<MseLossBackward0>)\n",
      "loss:  tensor(90.6532, grad_fn=<MseLossBackward0>)\n",
      "loss:  tensor(93.3068, grad_fn=<MseLossBackward0>)\n",
      "loss:  tensor(94.8058, grad_fn=<MseLossBackward0>)\n",
      "loss:  tensor(99.8641, grad_fn=<MseLossBackward0>)\n",
      "loss:  tensor(101.6609, grad_fn=<MseLossBackward0>)\n",
      "loss:  tensor(103.5210, grad_fn=<MseLossBackward0>)\n",
      "loss:  tensor(107.9573, grad_fn=<MseLossBackward0>)\n",
      "loss:  tensor(108.1668, grad_fn=<MseLossBackward0>)\n",
      "loss:  tensor(108.8703, grad_fn=<MseLossBackward0>)\n",
      "loss:  tensor(111.0419, grad_fn=<MseLossBackward0>)\n",
      "loss:  tensor(114.0920, grad_fn=<MseLossBackward0>)\n",
      "loss:  tensor(121.0357, grad_fn=<MseLossBackward0>)\n",
      "loss:  tensor(130.7635, grad_fn=<MseLossBackward0>)\n",
      "loss:  tensor(148.5801, grad_fn=<MseLossBackward0>)\n",
      "loss:  tensor(10000., grad_fn=<MseLossBackward0>)\n",
      "tensor(12907.5742)\n"
     ]
    },
    {
     "name": "stderr",
     "output_type": "stream",
     "text": [
      "/tmp/ipykernel_5502/641151555.py:5: UserWarning: To copy construct from a tensor, it is recommended to use sourceTensor.clone().detach() or sourceTensor.clone().detach().requires_grad_(True), rather than torch.tensor(sourceTensor).\n",
      "  xx = torch.tensor(xx, dtype=torch.float32)\n",
      "/tmp/ipykernel_5502/641151555.py:10: UserWarning: To copy construct from a tensor, it is recommended to use sourceTensor.clone().detach() or sourceTensor.clone().detach().requires_grad_(True), rather than torch.tensor(sourceTensor).\n",
      "  loss = mse_loss(output.float(), -torch.tensor(YY).float())\n"
     ]
    }
   ],
   "source": [
    "model2.net.train()\n",
    "for i in range(1):\n",
    "    loss_mean = []\n",
    "    for xx, YY in zip(x, Y): \n",
    "        xx = torch.tensor(xx, dtype=torch.float32)\n",
    "        YY = torch.tensor(YY, dtype=torch.float32)\n",
    "        model2.optimizer.zero_grad()\n",
    "        output = model2.net(xx)\n",
    "        mse_loss = torch.nn.MSELoss()\n",
    "        loss = mse_loss(output.float(), -torch.tensor(YY).float())\n",
    "        loss_mean.append(loss)\n",
    "        print('loss: ', loss)\n",
    "        loss.backward()\n",
    "        model2.optimizer.step()\n",
    "    print(torch.tensor(loss_mean).sum())"
   ]
  }
 ],
 "metadata": {
  "kernelspec": {
   "display_name": "Python 3 (ipykernel)",
   "language": "python",
   "name": "python3"
  },
  "language_info": {
   "codemirror_mode": {
    "name": "ipython",
    "version": 3
   },
   "file_extension": ".py",
   "mimetype": "text/x-python",
   "name": "python",
   "nbconvert_exporter": "python",
   "pygments_lexer": "ipython3",
   "version": "3.10.9"
  }
 },
 "nbformat": 4,
 "nbformat_minor": 5
}
